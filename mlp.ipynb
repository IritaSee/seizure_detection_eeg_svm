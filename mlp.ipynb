{
  "cells": [
    {
      "cell_type": "code",
      "execution_count": 1,
      "metadata": {
        "colab": {
          "base_uri": "https://localhost:8080/",
          "height": 423
        },
        "id": "0ILzLTNj4Hh9",
        "outputId": "7e1303b0-2a29-43d6-fab2-b4c77b0cde6a"
      },
      "outputs": [
        {
          "data": {
            "text/html": [
              "<div>\n",
              "<style scoped>\n",
              "    .dataframe tbody tr th:only-of-type {\n",
              "        vertical-align: middle;\n",
              "    }\n",
              "\n",
              "    .dataframe tbody tr th {\n",
              "        vertical-align: top;\n",
              "    }\n",
              "\n",
              "    .dataframe thead th {\n",
              "        text-align: right;\n",
              "    }\n",
              "</style>\n",
              "<table border=\"1\" class=\"dataframe\">\n",
              "  <thead>\n",
              "    <tr style=\"text-align: right;\">\n",
              "      <th></th>\n",
              "      <th>filename</th>\n",
              "      <th>dispersion_entropy</th>\n",
              "      <th>RDE</th>\n",
              "      <th>kelas</th>\n",
              "    </tr>\n",
              "  </thead>\n",
              "  <tbody>\n",
              "    <tr>\n",
              "      <th>0</th>\n",
              "      <td>FNSZ325.mat</td>\n",
              "      <td>2.177414</td>\n",
              "      <td>0.004687</td>\n",
              "      <td>FNSZ</td>\n",
              "    </tr>\n",
              "    <tr>\n",
              "      <th>1</th>\n",
              "      <td>FNSZ443.mat</td>\n",
              "      <td>2.173413</td>\n",
              "      <td>0.005799</td>\n",
              "      <td>FNSZ</td>\n",
              "    </tr>\n",
              "    <tr>\n",
              "      <th>2</th>\n",
              "      <td>FNSZ457.mat</td>\n",
              "      <td>2.128589</td>\n",
              "      <td>0.014401</td>\n",
              "      <td>FNSZ</td>\n",
              "    </tr>\n",
              "    <tr>\n",
              "      <th>3</th>\n",
              "      <td>GNSZ018.mat</td>\n",
              "      <td>0.778805</td>\n",
              "      <td>0.549478</td>\n",
              "      <td>GNSZ</td>\n",
              "    </tr>\n",
              "    <tr>\n",
              "      <th>4</th>\n",
              "      <td>FNSZ331.mat</td>\n",
              "      <td>1.926150</td>\n",
              "      <td>0.065480</td>\n",
              "      <td>FNSZ</td>\n",
              "    </tr>\n",
              "    <tr>\n",
              "      <th>...</th>\n",
              "      <td>...</td>\n",
              "      <td>...</td>\n",
              "      <td>...</td>\n",
              "      <td>...</td>\n",
              "    </tr>\n",
              "    <tr>\n",
              "      <th>861</th>\n",
              "      <td>FNSZ300.mat</td>\n",
              "      <td>2.151531</td>\n",
              "      <td>0.008903</td>\n",
              "      <td>FNSZ</td>\n",
              "    </tr>\n",
              "    <tr>\n",
              "      <th>862</th>\n",
              "      <td>GNSZ029.mat</td>\n",
              "      <td>2.060288</td>\n",
              "      <td>0.019217</td>\n",
              "      <td>GNSZ</td>\n",
              "    </tr>\n",
              "    <tr>\n",
              "      <th>863</th>\n",
              "      <td>GNSZ001.mat</td>\n",
              "      <td>1.545435</td>\n",
              "      <td>0.161897</td>\n",
              "      <td>GNSZ</td>\n",
              "    </tr>\n",
              "    <tr>\n",
              "      <th>864</th>\n",
              "      <td>FNSZ328.mat</td>\n",
              "      <td>2.140018</td>\n",
              "      <td>0.013467</td>\n",
              "      <td>FNSZ</td>\n",
              "    </tr>\n",
              "    <tr>\n",
              "      <th>865</th>\n",
              "      <td>GNSZ015.mat</td>\n",
              "      <td>2.147839</td>\n",
              "      <td>0.009838</td>\n",
              "      <td>GNSZ</td>\n",
              "    </tr>\n",
              "  </tbody>\n",
              "</table>\n",
              "<p>866 rows × 4 columns</p>\n",
              "</div>"
            ],
            "text/plain": [
              "        filename  dispersion_entropy       RDE kelas\n",
              "0    FNSZ325.mat            2.177414  0.004687  FNSZ\n",
              "1    FNSZ443.mat            2.173413  0.005799  FNSZ\n",
              "2    FNSZ457.mat            2.128589  0.014401  FNSZ\n",
              "3    GNSZ018.mat            0.778805  0.549478  GNSZ\n",
              "4    FNSZ331.mat            1.926150  0.065480  FNSZ\n",
              "..           ...                 ...       ...   ...\n",
              "861  FNSZ300.mat            2.151531  0.008903  FNSZ\n",
              "862  GNSZ029.mat            2.060288  0.019217  GNSZ\n",
              "863  GNSZ001.mat            1.545435  0.161897  GNSZ\n",
              "864  FNSZ328.mat            2.140018  0.013467  FNSZ\n",
              "865  GNSZ015.mat            2.147839  0.009838  GNSZ\n",
              "\n",
              "[866 rows x 4 columns]"
            ]
          },
          "execution_count": 1,
          "metadata": {},
          "output_type": "execute_result"
        }
      ],
      "source": [
        "import pandas as pd\n",
        "data_train = pd.read_csv(\"./train.csv\")\n",
        "data_train"
      ]
    },
    {
      "cell_type": "code",
      "execution_count": 2,
      "metadata": {
        "colab": {
          "base_uri": "https://localhost:8080/",
          "height": 423
        },
        "id": "Cd7nSnjv1nk0",
        "outputId": "22d07e17-9317-4b4c-a613-cb4e3836e479"
      },
      "outputs": [
        {
          "data": {
            "text/html": [
              "<div>\n",
              "<style scoped>\n",
              "    .dataframe tbody tr th:only-of-type {\n",
              "        vertical-align: middle;\n",
              "    }\n",
              "\n",
              "    .dataframe tbody tr th {\n",
              "        vertical-align: top;\n",
              "    }\n",
              "\n",
              "    .dataframe thead th {\n",
              "        text-align: right;\n",
              "    }\n",
              "</style>\n",
              "<table border=\"1\" class=\"dataframe\">\n",
              "  <thead>\n",
              "    <tr style=\"text-align: right;\">\n",
              "      <th></th>\n",
              "      <th>filename</th>\n",
              "      <th>dispersion_entropy</th>\n",
              "      <th>RDE</th>\n",
              "      <th>kelas</th>\n",
              "    </tr>\n",
              "  </thead>\n",
              "  <tbody>\n",
              "    <tr>\n",
              "      <th>0</th>\n",
              "      <td>MYSZ003.mat</td>\n",
              "      <td>0.079170</td>\n",
              "      <td>0.784690</td>\n",
              "      <td>MYSZ</td>\n",
              "    </tr>\n",
              "    <tr>\n",
              "      <th>1</th>\n",
              "      <td>FNSZ641.mat</td>\n",
              "      <td>1.386467</td>\n",
              "      <td>0.183812</td>\n",
              "      <td>FNSZ</td>\n",
              "    </tr>\n",
              "    <tr>\n",
              "      <th>2</th>\n",
              "      <td>FNSZ899.mat</td>\n",
              "      <td>1.617569</td>\n",
              "      <td>0.122826</td>\n",
              "      <td>FNSZ</td>\n",
              "    </tr>\n",
              "    <tr>\n",
              "      <th>3</th>\n",
              "      <td>FNSZ655.mat</td>\n",
              "      <td>2.030250</td>\n",
              "      <td>0.031383</td>\n",
              "      <td>FNSZ</td>\n",
              "    </tr>\n",
              "    <tr>\n",
              "      <th>4</th>\n",
              "      <td>GNSZ232.mat</td>\n",
              "      <td>1.392251</td>\n",
              "      <td>0.189670</td>\n",
              "      <td>GNSZ</td>\n",
              "    </tr>\n",
              "    <tr>\n",
              "      <th>...</th>\n",
              "      <td>...</td>\n",
              "      <td>...</td>\n",
              "      <td>...</td>\n",
              "      <td>...</td>\n",
              "    </tr>\n",
              "    <tr>\n",
              "      <th>680</th>\n",
              "      <td>GNSZ203.mat</td>\n",
              "      <td>1.474234</td>\n",
              "      <td>0.157782</td>\n",
              "      <td>GNSZ</td>\n",
              "    </tr>\n",
              "    <tr>\n",
              "      <th>681</th>\n",
              "      <td>GNSZ217.mat</td>\n",
              "      <td>1.356132</td>\n",
              "      <td>0.219959</td>\n",
              "      <td>GNSZ</td>\n",
              "    </tr>\n",
              "    <tr>\n",
              "      <th>682</th>\n",
              "      <td>FNSZ880.mat</td>\n",
              "      <td>1.862965</td>\n",
              "      <td>0.059810</td>\n",
              "      <td>FNSZ</td>\n",
              "    </tr>\n",
              "    <tr>\n",
              "      <th>683</th>\n",
              "      <td>FNSZ658.mat</td>\n",
              "      <td>1.302725</td>\n",
              "      <td>0.218821</td>\n",
              "      <td>FNSZ</td>\n",
              "    </tr>\n",
              "    <tr>\n",
              "      <th>684</th>\n",
              "      <td>TNSZ013.mat</td>\n",
              "      <td>2.117066</td>\n",
              "      <td>0.013705</td>\n",
              "      <td>TNSZ</td>\n",
              "    </tr>\n",
              "  </tbody>\n",
              "</table>\n",
              "<p>685 rows × 4 columns</p>\n",
              "</div>"
            ],
            "text/plain": [
              "        filename  dispersion_entropy       RDE kelas\n",
              "0    MYSZ003.mat            0.079170  0.784690  MYSZ\n",
              "1    FNSZ641.mat            1.386467  0.183812  FNSZ\n",
              "2    FNSZ899.mat            1.617569  0.122826  FNSZ\n",
              "3    FNSZ655.mat            2.030250  0.031383  FNSZ\n",
              "4    GNSZ232.mat            1.392251  0.189670  GNSZ\n",
              "..           ...                 ...       ...   ...\n",
              "680  GNSZ203.mat            1.474234  0.157782  GNSZ\n",
              "681  GNSZ217.mat            1.356132  0.219959  GNSZ\n",
              "682  FNSZ880.mat            1.862965  0.059810  FNSZ\n",
              "683  FNSZ658.mat            1.302725  0.218821  FNSZ\n",
              "684  TNSZ013.mat            2.117066  0.013705  TNSZ\n",
              "\n",
              "[685 rows x 4 columns]"
            ]
          },
          "execution_count": 2,
          "metadata": {},
          "output_type": "execute_result"
        }
      ],
      "source": [
        "data_test = pd.read_csv('./test.csv')\n",
        "data_test"
      ]
    },
    {
      "cell_type": "code",
      "execution_count": 3,
      "metadata": {
        "id": "cPR1Caup1nk1",
        "outputId": "c0c78f6e-cde3-4020-b142-0f18880b3ff5"
      },
      "outputs": [
        {
          "data": {
            "text/plain": [
              "FNSZ    410\n",
              "GNSZ    138\n",
              "CPSZ     98\n",
              "ABSZ     14\n",
              "TNSZ      9\n",
              "TCSZ      9\n",
              "SPSZ      5\n",
              "MYSZ      2\n",
              "Name: kelas, dtype: int64"
            ]
          },
          "execution_count": 3,
          "metadata": {},
          "output_type": "execute_result"
        }
      ],
      "source": [
        "data_test['kelas'].value_counts()"
      ]
    },
    {
      "cell_type": "code",
      "execution_count": 4,
      "metadata": {
        "colab": {
          "base_uri": "https://localhost:8080/"
        },
        "id": "uuttnFrG1nk1",
        "outputId": "be85f0b7-056f-4d64-b65c-53c126f7a8a7"
      },
      "outputs": [
        {
          "data": {
            "text/plain": [
              "FNSZ    521\n",
              "GNSZ    172\n",
              "CPSZ    132\n",
              "ABSZ     14\n",
              "TCSZ     11\n",
              "TNSZ      9\n",
              "SPSZ      5\n",
              "MYSZ      2\n",
              "Name: kelas, dtype: int64"
            ]
          },
          "execution_count": 4,
          "metadata": {},
          "output_type": "execute_result"
        }
      ],
      "source": [
        "data_train['kelas'].value_counts()"
      ]
    },
    {
      "cell_type": "code",
      "execution_count": 5,
      "metadata": {
        "colab": {
          "base_uri": "https://localhost:8080/"
        },
        "id": "mw2r0HIy1nk2",
        "outputId": "101a43ac-421a-4ce0-9037-35473c88e86c"
      },
      "outputs": [
        {
          "data": {
            "text/plain": [
              "FNSZ    521\n",
              "GNSZ    172\n",
              "CPSZ    132\n",
              "Name: kelas, dtype: int64"
            ]
          },
          "execution_count": 5,
          "metadata": {},
          "output_type": "execute_result"
        }
      ],
      "source": [
        "data_train=data_train[data_train.kelas != \"ABSZ\"]\n",
        "data_train=data_train[data_train.kelas != \"TCSZ\"]\n",
        "data_train=data_train[data_train.kelas != \"TNSZ\"]\n",
        "data_train=data_train[data_train.kelas != \"SPSZ\"]\n",
        "data_train=data_train[data_train.kelas != \"MYSZ\"]\n",
        "data_train['kelas'].value_counts()"
      ]
    },
    {
      "cell_type": "code",
      "execution_count": 6,
      "metadata": {
        "colab": {
          "base_uri": "https://localhost:8080/"
        },
        "id": "AHiJzQbn1nk2",
        "outputId": "02867c52-e493-4b87-e47b-10f111597aa1"
      },
      "outputs": [
        {
          "data": {
            "text/plain": [
              "FNSZ    410\n",
              "GNSZ    138\n",
              "CPSZ     98\n",
              "Name: kelas, dtype: int64"
            ]
          },
          "execution_count": 6,
          "metadata": {},
          "output_type": "execute_result"
        }
      ],
      "source": [
        "data_test=data_test[data_test.kelas != \"ABSZ\"]\n",
        "data_test=data_test[data_test.kelas != \"TCSZ\"]\n",
        "data_test=data_test[data_test.kelas != \"TNSZ\"]\n",
        "data_test=data_test[data_test.kelas != \"SPSZ\"]\n",
        "data_test=data_test[data_test.kelas != \"MYSZ\"]\n",
        "data_test['kelas'].value_counts()"
      ]
    },
    {
      "cell_type": "code",
      "execution_count": 7,
      "metadata": {
        "colab": {
          "base_uri": "https://localhost:8080/",
          "height": 423
        },
        "id": "JDeE_h201nk3",
        "outputId": "1e9929be-de6a-4b36-8de4-5984b81a9cd8"
      },
      "outputs": [
        {
          "data": {
            "text/html": [
              "<div>\n",
              "<style scoped>\n",
              "    .dataframe tbody tr th:only-of-type {\n",
              "        vertical-align: middle;\n",
              "    }\n",
              "\n",
              "    .dataframe tbody tr th {\n",
              "        vertical-align: top;\n",
              "    }\n",
              "\n",
              "    .dataframe thead th {\n",
              "        text-align: right;\n",
              "    }\n",
              "</style>\n",
              "<table border=\"1\" class=\"dataframe\">\n",
              "  <thead>\n",
              "    <tr style=\"text-align: right;\">\n",
              "      <th></th>\n",
              "      <th>dispersion_entropy</th>\n",
              "      <th>RDE</th>\n",
              "      <th>kelas</th>\n",
              "    </tr>\n",
              "  </thead>\n",
              "  <tbody>\n",
              "    <tr>\n",
              "      <th>0</th>\n",
              "      <td>2.177414</td>\n",
              "      <td>0.004687</td>\n",
              "      <td>FNSZ</td>\n",
              "    </tr>\n",
              "    <tr>\n",
              "      <th>1</th>\n",
              "      <td>2.173413</td>\n",
              "      <td>0.005799</td>\n",
              "      <td>FNSZ</td>\n",
              "    </tr>\n",
              "    <tr>\n",
              "      <th>2</th>\n",
              "      <td>2.128589</td>\n",
              "      <td>0.014401</td>\n",
              "      <td>FNSZ</td>\n",
              "    </tr>\n",
              "    <tr>\n",
              "      <th>3</th>\n",
              "      <td>0.778805</td>\n",
              "      <td>0.549478</td>\n",
              "      <td>GNSZ</td>\n",
              "    </tr>\n",
              "    <tr>\n",
              "      <th>4</th>\n",
              "      <td>1.926150</td>\n",
              "      <td>0.065480</td>\n",
              "      <td>FNSZ</td>\n",
              "    </tr>\n",
              "    <tr>\n",
              "      <th>...</th>\n",
              "      <td>...</td>\n",
              "      <td>...</td>\n",
              "      <td>...</td>\n",
              "    </tr>\n",
              "    <tr>\n",
              "      <th>861</th>\n",
              "      <td>2.151531</td>\n",
              "      <td>0.008903</td>\n",
              "      <td>FNSZ</td>\n",
              "    </tr>\n",
              "    <tr>\n",
              "      <th>862</th>\n",
              "      <td>2.060288</td>\n",
              "      <td>0.019217</td>\n",
              "      <td>GNSZ</td>\n",
              "    </tr>\n",
              "    <tr>\n",
              "      <th>863</th>\n",
              "      <td>1.545435</td>\n",
              "      <td>0.161897</td>\n",
              "      <td>GNSZ</td>\n",
              "    </tr>\n",
              "    <tr>\n",
              "      <th>864</th>\n",
              "      <td>2.140018</td>\n",
              "      <td>0.013467</td>\n",
              "      <td>FNSZ</td>\n",
              "    </tr>\n",
              "    <tr>\n",
              "      <th>865</th>\n",
              "      <td>2.147839</td>\n",
              "      <td>0.009838</td>\n",
              "      <td>GNSZ</td>\n",
              "    </tr>\n",
              "  </tbody>\n",
              "</table>\n",
              "<p>825 rows × 3 columns</p>\n",
              "</div>"
            ],
            "text/plain": [
              "     dispersion_entropy       RDE kelas\n",
              "0              2.177414  0.004687  FNSZ\n",
              "1              2.173413  0.005799  FNSZ\n",
              "2              2.128589  0.014401  FNSZ\n",
              "3              0.778805  0.549478  GNSZ\n",
              "4              1.926150  0.065480  FNSZ\n",
              "..                  ...       ...   ...\n",
              "861            2.151531  0.008903  FNSZ\n",
              "862            2.060288  0.019217  GNSZ\n",
              "863            1.545435  0.161897  GNSZ\n",
              "864            2.140018  0.013467  FNSZ\n",
              "865            2.147839  0.009838  GNSZ\n",
              "\n",
              "[825 rows x 3 columns]"
            ]
          },
          "execution_count": 7,
          "metadata": {},
          "output_type": "execute_result"
        }
      ],
      "source": [
        "data_train = data_train.drop(columns=[\"filename\"])\n",
        "data_train"
      ]
    },
    {
      "cell_type": "code",
      "execution_count": 8,
      "metadata": {
        "id": "sOWImld81nk3"
      },
      "outputs": [],
      "source": [
        "import numpy as np\n",
        "classes_train = np.array(data_train['kelas'])\n",
        "data_train = data_train.drop(columns=[\"kelas\"])"
      ]
    },
    {
      "cell_type": "code",
      "execution_count": 9,
      "metadata": {
        "colab": {
          "base_uri": "https://localhost:8080/",
          "height": 423
        },
        "id": "sbB3gozH1nk4",
        "outputId": "bff0b01f-dcd9-44c0-b95e-310f773c7d0e"
      },
      "outputs": [
        {
          "data": {
            "text/html": [
              "<div>\n",
              "<style scoped>\n",
              "    .dataframe tbody tr th:only-of-type {\n",
              "        vertical-align: middle;\n",
              "    }\n",
              "\n",
              "    .dataframe tbody tr th {\n",
              "        vertical-align: top;\n",
              "    }\n",
              "\n",
              "    .dataframe thead th {\n",
              "        text-align: right;\n",
              "    }\n",
              "</style>\n",
              "<table border=\"1\" class=\"dataframe\">\n",
              "  <thead>\n",
              "    <tr style=\"text-align: right;\">\n",
              "      <th></th>\n",
              "      <th>dispersion_entropy</th>\n",
              "      <th>RDE</th>\n",
              "    </tr>\n",
              "  </thead>\n",
              "  <tbody>\n",
              "    <tr>\n",
              "      <th>0</th>\n",
              "      <td>2.177414</td>\n",
              "      <td>0.004687</td>\n",
              "    </tr>\n",
              "    <tr>\n",
              "      <th>1</th>\n",
              "      <td>2.173413</td>\n",
              "      <td>0.005799</td>\n",
              "    </tr>\n",
              "    <tr>\n",
              "      <th>2</th>\n",
              "      <td>2.128589</td>\n",
              "      <td>0.014401</td>\n",
              "    </tr>\n",
              "    <tr>\n",
              "      <th>3</th>\n",
              "      <td>0.778805</td>\n",
              "      <td>0.549478</td>\n",
              "    </tr>\n",
              "    <tr>\n",
              "      <th>4</th>\n",
              "      <td>1.926150</td>\n",
              "      <td>0.065480</td>\n",
              "    </tr>\n",
              "    <tr>\n",
              "      <th>...</th>\n",
              "      <td>...</td>\n",
              "      <td>...</td>\n",
              "    </tr>\n",
              "    <tr>\n",
              "      <th>861</th>\n",
              "      <td>2.151531</td>\n",
              "      <td>0.008903</td>\n",
              "    </tr>\n",
              "    <tr>\n",
              "      <th>862</th>\n",
              "      <td>2.060288</td>\n",
              "      <td>0.019217</td>\n",
              "    </tr>\n",
              "    <tr>\n",
              "      <th>863</th>\n",
              "      <td>1.545435</td>\n",
              "      <td>0.161897</td>\n",
              "    </tr>\n",
              "    <tr>\n",
              "      <th>864</th>\n",
              "      <td>2.140018</td>\n",
              "      <td>0.013467</td>\n",
              "    </tr>\n",
              "    <tr>\n",
              "      <th>865</th>\n",
              "      <td>2.147839</td>\n",
              "      <td>0.009838</td>\n",
              "    </tr>\n",
              "  </tbody>\n",
              "</table>\n",
              "<p>825 rows × 2 columns</p>\n",
              "</div>"
            ],
            "text/plain": [
              "     dispersion_entropy       RDE\n",
              "0              2.177414  0.004687\n",
              "1              2.173413  0.005799\n",
              "2              2.128589  0.014401\n",
              "3              0.778805  0.549478\n",
              "4              1.926150  0.065480\n",
              "..                  ...       ...\n",
              "861            2.151531  0.008903\n",
              "862            2.060288  0.019217\n",
              "863            1.545435  0.161897\n",
              "864            2.140018  0.013467\n",
              "865            2.147839  0.009838\n",
              "\n",
              "[825 rows x 2 columns]"
            ]
          },
          "execution_count": 9,
          "metadata": {},
          "output_type": "execute_result"
        }
      ],
      "source": [
        "data_train"
      ]
    },
    {
      "cell_type": "code",
      "execution_count": 10,
      "metadata": {
        "colab": {
          "base_uri": "https://localhost:8080/"
        },
        "id": "AOooLIE3B1-i",
        "outputId": "72218543-b842-401a-e6a2-d0ede301c582"
      },
      "outputs": [
        {
          "data": {
            "text/plain": [
              "(825, 2)"
            ]
          },
          "execution_count": 10,
          "metadata": {},
          "output_type": "execute_result"
        }
      ],
      "source": [
        "data_train.shape"
      ]
    },
    {
      "cell_type": "code",
      "execution_count": 11,
      "metadata": {
        "colab": {
          "base_uri": "https://localhost:8080/"
        },
        "id": "slg_yBIZCaaL",
        "outputId": "6b6ec398-dda9-469e-9b2d-f0fd90fb765a"
      },
      "outputs": [
        {
          "data": {
            "text/plain": [
              "(825,)"
            ]
          },
          "execution_count": 11,
          "metadata": {},
          "output_type": "execute_result"
        }
      ],
      "source": [
        "classes_train.shape"
      ]
    },
    {
      "cell_type": "code",
      "execution_count": 12,
      "metadata": {},
      "outputs": [
        {
          "data": {
            "text/html": [
              "<div>\n",
              "<style scoped>\n",
              "    .dataframe tbody tr th:only-of-type {\n",
              "        vertical-align: middle;\n",
              "    }\n",
              "\n",
              "    .dataframe tbody tr th {\n",
              "        vertical-align: top;\n",
              "    }\n",
              "\n",
              "    .dataframe thead th {\n",
              "        text-align: right;\n",
              "    }\n",
              "</style>\n",
              "<table border=\"1\" class=\"dataframe\">\n",
              "  <thead>\n",
              "    <tr style=\"text-align: right;\">\n",
              "      <th></th>\n",
              "      <th>filename</th>\n",
              "      <th>dispersion_entropy</th>\n",
              "      <th>RDE</th>\n",
              "    </tr>\n",
              "  </thead>\n",
              "  <tbody>\n",
              "    <tr>\n",
              "      <th>1</th>\n",
              "      <td>FNSZ641.mat</td>\n",
              "      <td>1.386467</td>\n",
              "      <td>0.183812</td>\n",
              "    </tr>\n",
              "    <tr>\n",
              "      <th>2</th>\n",
              "      <td>FNSZ899.mat</td>\n",
              "      <td>1.617569</td>\n",
              "      <td>0.122826</td>\n",
              "    </tr>\n",
              "    <tr>\n",
              "      <th>3</th>\n",
              "      <td>FNSZ655.mat</td>\n",
              "      <td>2.030250</td>\n",
              "      <td>0.031383</td>\n",
              "    </tr>\n",
              "    <tr>\n",
              "      <th>4</th>\n",
              "      <td>GNSZ232.mat</td>\n",
              "      <td>1.392251</td>\n",
              "      <td>0.189670</td>\n",
              "    </tr>\n",
              "    <tr>\n",
              "      <th>5</th>\n",
              "      <td>GNSZ226.mat</td>\n",
              "      <td>2.066645</td>\n",
              "      <td>0.018233</td>\n",
              "    </tr>\n",
              "    <tr>\n",
              "      <th>...</th>\n",
              "      <td>...</td>\n",
              "      <td>...</td>\n",
              "      <td>...</td>\n",
              "    </tr>\n",
              "    <tr>\n",
              "      <th>679</th>\n",
              "      <td>FNSZ894.mat</td>\n",
              "      <td>0.881966</td>\n",
              "      <td>0.506572</td>\n",
              "    </tr>\n",
              "    <tr>\n",
              "      <th>680</th>\n",
              "      <td>GNSZ203.mat</td>\n",
              "      <td>1.474234</td>\n",
              "      <td>0.157782</td>\n",
              "    </tr>\n",
              "    <tr>\n",
              "      <th>681</th>\n",
              "      <td>GNSZ217.mat</td>\n",
              "      <td>1.356132</td>\n",
              "      <td>0.219959</td>\n",
              "    </tr>\n",
              "    <tr>\n",
              "      <th>682</th>\n",
              "      <td>FNSZ880.mat</td>\n",
              "      <td>1.862965</td>\n",
              "      <td>0.059810</td>\n",
              "    </tr>\n",
              "    <tr>\n",
              "      <th>683</th>\n",
              "      <td>FNSZ658.mat</td>\n",
              "      <td>1.302725</td>\n",
              "      <td>0.218821</td>\n",
              "    </tr>\n",
              "  </tbody>\n",
              "</table>\n",
              "<p>646 rows × 3 columns</p>\n",
              "</div>"
            ],
            "text/plain": [
              "        filename  dispersion_entropy       RDE\n",
              "1    FNSZ641.mat            1.386467  0.183812\n",
              "2    FNSZ899.mat            1.617569  0.122826\n",
              "3    FNSZ655.mat            2.030250  0.031383\n",
              "4    GNSZ232.mat            1.392251  0.189670\n",
              "5    GNSZ226.mat            2.066645  0.018233\n",
              "..           ...                 ...       ...\n",
              "679  FNSZ894.mat            0.881966  0.506572\n",
              "680  GNSZ203.mat            1.474234  0.157782\n",
              "681  GNSZ217.mat            1.356132  0.219959\n",
              "682  FNSZ880.mat            1.862965  0.059810\n",
              "683  FNSZ658.mat            1.302725  0.218821\n",
              "\n",
              "[646 rows x 3 columns]"
            ]
          },
          "execution_count": 12,
          "metadata": {},
          "output_type": "execute_result"
        }
      ],
      "source": [
        "classes_test = np.array(data_test['kelas'])\n",
        "data_test = data_test.drop(columns=[\"kelas\"])\n",
        "data_test"
      ]
    },
    {
      "cell_type": "code",
      "execution_count": 13,
      "metadata": {},
      "outputs": [
        {
          "data": {
            "text/html": [
              "<div>\n",
              "<style scoped>\n",
              "    .dataframe tbody tr th:only-of-type {\n",
              "        vertical-align: middle;\n",
              "    }\n",
              "\n",
              "    .dataframe tbody tr th {\n",
              "        vertical-align: top;\n",
              "    }\n",
              "\n",
              "    .dataframe thead th {\n",
              "        text-align: right;\n",
              "    }\n",
              "</style>\n",
              "<table border=\"1\" class=\"dataframe\">\n",
              "  <thead>\n",
              "    <tr style=\"text-align: right;\">\n",
              "      <th></th>\n",
              "      <th>dispersion_entropy</th>\n",
              "      <th>RDE</th>\n",
              "    </tr>\n",
              "  </thead>\n",
              "  <tbody>\n",
              "    <tr>\n",
              "      <th>1</th>\n",
              "      <td>1.386467</td>\n",
              "      <td>0.183812</td>\n",
              "    </tr>\n",
              "    <tr>\n",
              "      <th>2</th>\n",
              "      <td>1.617569</td>\n",
              "      <td>0.122826</td>\n",
              "    </tr>\n",
              "    <tr>\n",
              "      <th>3</th>\n",
              "      <td>2.030250</td>\n",
              "      <td>0.031383</td>\n",
              "    </tr>\n",
              "    <tr>\n",
              "      <th>4</th>\n",
              "      <td>1.392251</td>\n",
              "      <td>0.189670</td>\n",
              "    </tr>\n",
              "    <tr>\n",
              "      <th>5</th>\n",
              "      <td>2.066645</td>\n",
              "      <td>0.018233</td>\n",
              "    </tr>\n",
              "    <tr>\n",
              "      <th>...</th>\n",
              "      <td>...</td>\n",
              "      <td>...</td>\n",
              "    </tr>\n",
              "    <tr>\n",
              "      <th>679</th>\n",
              "      <td>0.881966</td>\n",
              "      <td>0.506572</td>\n",
              "    </tr>\n",
              "    <tr>\n",
              "      <th>680</th>\n",
              "      <td>1.474234</td>\n",
              "      <td>0.157782</td>\n",
              "    </tr>\n",
              "    <tr>\n",
              "      <th>681</th>\n",
              "      <td>1.356132</td>\n",
              "      <td>0.219959</td>\n",
              "    </tr>\n",
              "    <tr>\n",
              "      <th>682</th>\n",
              "      <td>1.862965</td>\n",
              "      <td>0.059810</td>\n",
              "    </tr>\n",
              "    <tr>\n",
              "      <th>683</th>\n",
              "      <td>1.302725</td>\n",
              "      <td>0.218821</td>\n",
              "    </tr>\n",
              "  </tbody>\n",
              "</table>\n",
              "<p>646 rows × 2 columns</p>\n",
              "</div>"
            ],
            "text/plain": [
              "     dispersion_entropy       RDE\n",
              "1              1.386467  0.183812\n",
              "2              1.617569  0.122826\n",
              "3              2.030250  0.031383\n",
              "4              1.392251  0.189670\n",
              "5              2.066645  0.018233\n",
              "..                  ...       ...\n",
              "679            0.881966  0.506572\n",
              "680            1.474234  0.157782\n",
              "681            1.356132  0.219959\n",
              "682            1.862965  0.059810\n",
              "683            1.302725  0.218821\n",
              "\n",
              "[646 rows x 2 columns]"
            ]
          },
          "execution_count": 13,
          "metadata": {},
          "output_type": "execute_result"
        }
      ],
      "source": [
        "data_test = data_test.drop(columns=[\"filename\"])\n",
        "data_test"
      ]
    },
    {
      "cell_type": "code",
      "execution_count": 14,
      "metadata": {},
      "outputs": [],
      "source": [
        "# np.expand_dims(classes_test,axis = 1)"
      ]
    },
    {
      "cell_type": "code",
      "execution_count": 15,
      "metadata": {},
      "outputs": [],
      "source": [
        "# len(np.expand_dims(classes_train, axis = -1))"
      ]
    },
    {
      "cell_type": "code",
      "execution_count": 16,
      "metadata": {},
      "outputs": [],
      "source": [
        "# data_train = np.expand_dims(data_train, axis=1).T\n",
        "# data_test = np.expand_dims(data_test, axis=1).T\n",
        "# classes_test = np.expand_dims(classes_test,axis = 1)\n",
        "# classes_train = np.expand_dims(classes_train,axis = 1)\n",
        "# data_train"
      ]
    },
    {
      "cell_type": "code",
      "execution_count": 17,
      "metadata": {},
      "outputs": [],
      "source": [
        "# len(classes_train.T)"
      ]
    },
    {
      "cell_type": "code",
      "execution_count": 18,
      "metadata": {},
      "outputs": [],
      "source": [
        "# data_train.shape"
      ]
    },
    {
      "cell_type": "code",
      "execution_count": 37,
      "metadata": {
        "colab": {
          "base_uri": "https://localhost:8080/"
        },
        "id": "BZEnn5Yw8XzQ",
        "outputId": "166d44a8-7abd-40b6-8baa-45c249d13b2e"
      },
      "outputs": [
        {
          "name": "stdout",
          "output_type": "stream",
          "text": [
            "Model: \"sequential_6\"\n",
            "_________________________________________________________________\n",
            " Layer (type)                Output Shape              Param #   \n",
            "=================================================================\n",
            " dense_18 (Dense)            (None, 32)                96        \n",
            "                                                                 \n",
            " dense_19 (Dense)            (None, 16)                528       \n",
            "                                                                 \n",
            " dense_20 (Dense)            (None, 3)                 51        \n",
            "                                                                 \n",
            "=================================================================\n",
            "Total params: 675\n",
            "Trainable params: 675\n",
            "Non-trainable params: 0\n",
            "_________________________________________________________________\n"
          ]
        }
      ],
      "source": [
        "import tensorflow as tf\n",
        "from keras.models import Sequential\n",
        "from keras.utils import np_utils\n",
        "from keras.layers import Dense, Activation,Conv1D,MaxPooling1D, Dropout, Flatten\n",
        "from keras.utils import to_categorical\n",
        "import matplotlib.pyplot as plt\n",
        "\n",
        "\n",
        "model = Sequential()\n",
        "model.add(tf.keras.Input(shape=(2)))\n",
        "model.add(Dense(32))\n",
        "model.add(Dense(16))\n",
        "model.add(Dense(3, activation='softmax'))\n",
        "model.compile(loss='sparse_categorical_crossentropy', optimizer= \"adam\", metrics=['accuracy'])\n",
        "model.summary()"
      ]
    },
    {
      "cell_type": "code",
      "execution_count": 35,
      "metadata": {},
      "outputs": [],
      "source": [
        "names, classes_train = np.unique(classes_train, return_inverse=True)\n",
        "names, classes_test = np.unique(classes_test, return_inverse=True)"
      ]
    },
    {
      "cell_type": "code",
      "execution_count": 22,
      "metadata": {},
      "outputs": [],
      "source": [
        "# data_train = np.expand_dims(data_train, axis=1).T\n",
        "# data_test = np.expand_dims(data_test, axis=1).T"
      ]
    },
    {
      "cell_type": "code",
      "execution_count": 20,
      "metadata": {},
      "outputs": [],
      "source": [
        "# data_train.reshape(-1,825,2)\n",
        "# # data_test.reshape(data_test [None,2])"
      ]
    },
    {
      "cell_type": "code",
      "execution_count": 38,
      "metadata": {
        "colab": {
          "base_uri": "https://localhost:8080/",
          "height": 606
        },
        "id": "vjPNVwkm1nk4",
        "outputId": "01d31a9e-4d24-4232-a458-d565017f7ce9"
      },
      "outputs": [
        {
          "name": "stdout",
          "output_type": "stream",
          "text": [
            "Epoch 1/50\n"
          ]
        },
        {
          "name": "stderr",
          "output_type": "stream",
          "text": [
            "2023-01-05 00:08:03.766390: I tensorflow/core/grappler/optimizers/custom_graph_optimizer_registry.cc:114] Plugin optimizer for device_type GPU is enabled.\n"
          ]
        },
        {
          "name": "stdout",
          "output_type": "stream",
          "text": [
            "83/83 [==============================] - ETA: 0s - loss: 0.9240 - accuracy: 0.6279"
          ]
        },
        {
          "name": "stderr",
          "output_type": "stream",
          "text": [
            "2023-01-05 00:08:06.833908: I tensorflow/core/grappler/optimizers/custom_graph_optimizer_registry.cc:114] Plugin optimizer for device_type GPU is enabled.\n"
          ]
        },
        {
          "name": "stdout",
          "output_type": "stream",
          "text": [
            "83/83 [==============================] - 4s 15ms/step - loss: 0.9240 - accuracy: 0.6279 - val_loss: 0.9065 - val_accuracy: 0.6347\n",
            "Epoch 2/50\n",
            "83/83 [==============================] - 1s 9ms/step - loss: 0.9159 - accuracy: 0.6315 - val_loss: 0.9082 - val_accuracy: 0.6347\n",
            "Epoch 3/50\n",
            "83/83 [==============================] - 1s 9ms/step - loss: 0.9158 - accuracy: 0.6315 - val_loss: 0.9062 - val_accuracy: 0.6347\n",
            "Epoch 4/50\n",
            "83/83 [==============================] - 1s 9ms/step - loss: 0.9153 - accuracy: 0.6315 - val_loss: 0.9025 - val_accuracy: 0.6347\n",
            "Epoch 5/50\n",
            "83/83 [==============================] - 1s 9ms/step - loss: 0.9133 - accuracy: 0.6315 - val_loss: 0.9027 - val_accuracy: 0.6347\n",
            "Epoch 6/50\n",
            "83/83 [==============================] - 1s 8ms/step - loss: 0.9131 - accuracy: 0.6315 - val_loss: 0.9032 - val_accuracy: 0.6347\n",
            "Epoch 7/50\n",
            "83/83 [==============================] - 1s 8ms/step - loss: 0.9147 - accuracy: 0.6315 - val_loss: 0.9032 - val_accuracy: 0.6347\n",
            "Epoch 8/50\n",
            "83/83 [==============================] - 1s 8ms/step - loss: 0.9176 - accuracy: 0.6315 - val_loss: 0.9061 - val_accuracy: 0.6347\n",
            "Epoch 9/50\n",
            "83/83 [==============================] - 1s 10ms/step - loss: 0.9120 - accuracy: 0.6315 - val_loss: 0.9022 - val_accuracy: 0.6347\n",
            "Epoch 10/50\n",
            "83/83 [==============================] - 1s 10ms/step - loss: 0.9156 - accuracy: 0.6315 - val_loss: 0.9040 - val_accuracy: 0.6347\n",
            "Epoch 11/50\n",
            "83/83 [==============================] - 1s 10ms/step - loss: 0.9108 - accuracy: 0.6315 - val_loss: 0.9039 - val_accuracy: 0.6347\n",
            "Epoch 12/50\n",
            "83/83 [==============================] - 1s 9ms/step - loss: 0.9118 - accuracy: 0.6315 - val_loss: 0.9033 - val_accuracy: 0.6347\n",
            "Epoch 13/50\n",
            "83/83 [==============================] - 1s 9ms/step - loss: 0.9148 - accuracy: 0.6315 - val_loss: 0.9020 - val_accuracy: 0.6347\n",
            "Epoch 14/50\n",
            "83/83 [==============================] - 1s 9ms/step - loss: 0.9182 - accuracy: 0.6315 - val_loss: 0.9021 - val_accuracy: 0.6347\n",
            "Epoch 15/50\n",
            "83/83 [==============================] - 1s 9ms/step - loss: 0.9155 - accuracy: 0.6315 - val_loss: 0.9150 - val_accuracy: 0.6347\n",
            "Epoch 16/50\n",
            "83/83 [==============================] - 1s 9ms/step - loss: 0.9139 - accuracy: 0.6315 - val_loss: 0.9062 - val_accuracy: 0.6347\n",
            "Epoch 17/50\n",
            "83/83 [==============================] - 1s 9ms/step - loss: 0.9112 - accuracy: 0.6315 - val_loss: 0.9058 - val_accuracy: 0.6347\n",
            "Epoch 18/50\n",
            "83/83 [==============================] - 1s 9ms/step - loss: 0.9158 - accuracy: 0.6315 - val_loss: 0.9054 - val_accuracy: 0.6347\n",
            "Epoch 19/50\n",
            "83/83 [==============================] - 1s 9ms/step - loss: 0.9142 - accuracy: 0.6315 - val_loss: 0.9080 - val_accuracy: 0.6347\n",
            "Epoch 20/50\n",
            "83/83 [==============================] - 1s 8ms/step - loss: 0.9133 - accuracy: 0.6315 - val_loss: 0.9050 - val_accuracy: 0.6347\n",
            "Epoch 21/50\n",
            "83/83 [==============================] - 1s 9ms/step - loss: 0.9138 - accuracy: 0.6315 - val_loss: 0.9041 - val_accuracy: 0.6347\n",
            "Epoch 22/50\n",
            "83/83 [==============================] - 1s 9ms/step - loss: 0.9119 - accuracy: 0.6315 - val_loss: 0.9033 - val_accuracy: 0.6347\n",
            "Epoch 23/50\n",
            "83/83 [==============================] - 1s 8ms/step - loss: 0.9143 - accuracy: 0.6315 - val_loss: 0.9120 - val_accuracy: 0.6347\n",
            "Epoch 24/50\n",
            "83/83 [==============================] - 1s 8ms/step - loss: 0.9138 - accuracy: 0.6315 - val_loss: 0.9028 - val_accuracy: 0.6347\n",
            "Epoch 25/50\n",
            "83/83 [==============================] - 1s 9ms/step - loss: 0.9119 - accuracy: 0.6315 - val_loss: 0.9032 - val_accuracy: 0.6347\n",
            "Epoch 26/50\n",
            "83/83 [==============================] - 1s 9ms/step - loss: 0.9136 - accuracy: 0.6315 - val_loss: 0.9069 - val_accuracy: 0.6347\n",
            "Epoch 27/50\n",
            "83/83 [==============================] - 1s 9ms/step - loss: 0.9091 - accuracy: 0.6315 - val_loss: 0.9048 - val_accuracy: 0.6347\n",
            "Epoch 28/50\n",
            "83/83 [==============================] - 1s 8ms/step - loss: 0.9126 - accuracy: 0.6315 - val_loss: 0.9031 - val_accuracy: 0.6347\n",
            "Epoch 29/50\n",
            "83/83 [==============================] - 1s 8ms/step - loss: 0.9143 - accuracy: 0.6315 - val_loss: 0.9037 - val_accuracy: 0.6347\n",
            "Epoch 30/50\n",
            "83/83 [==============================] - 1s 9ms/step - loss: 0.9139 - accuracy: 0.6315 - val_loss: 0.9071 - val_accuracy: 0.6347\n",
            "Epoch 31/50\n",
            "83/83 [==============================] - 1s 9ms/step - loss: 0.9139 - accuracy: 0.6315 - val_loss: 0.9085 - val_accuracy: 0.6347\n",
            "Epoch 32/50\n",
            "83/83 [==============================] - 1s 9ms/step - loss: 0.9127 - accuracy: 0.6315 - val_loss: 0.9023 - val_accuracy: 0.6347\n",
            "Epoch 33/50\n",
            "83/83 [==============================] - 1s 9ms/step - loss: 0.9117 - accuracy: 0.6315 - val_loss: 0.9036 - val_accuracy: 0.6347\n",
            "Epoch 34/50\n",
            "83/83 [==============================] - 1s 9ms/step - loss: 0.9148 - accuracy: 0.6315 - val_loss: 0.9042 - val_accuracy: 0.6347\n",
            "Epoch 35/50\n",
            "83/83 [==============================] - 1s 8ms/step - loss: 0.9130 - accuracy: 0.6315 - val_loss: 0.9031 - val_accuracy: 0.6347\n",
            "Epoch 36/50\n",
            "83/83 [==============================] - 1s 9ms/step - loss: 0.9132 - accuracy: 0.6315 - val_loss: 0.9044 - val_accuracy: 0.6347\n",
            "Epoch 37/50\n",
            "83/83 [==============================] - 1s 9ms/step - loss: 0.9135 - accuracy: 0.6315 - val_loss: 0.9021 - val_accuracy: 0.6347\n",
            "Epoch 38/50\n",
            "83/83 [==============================] - 1s 9ms/step - loss: 0.9133 - accuracy: 0.6315 - val_loss: 0.9045 - val_accuracy: 0.6347\n",
            "Epoch 39/50\n",
            "83/83 [==============================] - 1s 9ms/step - loss: 0.9143 - accuracy: 0.6315 - val_loss: 0.9034 - val_accuracy: 0.6347\n",
            "Epoch 40/50\n",
            "83/83 [==============================] - 1s 9ms/step - loss: 0.9138 - accuracy: 0.6315 - val_loss: 0.9027 - val_accuracy: 0.6347\n",
            "Epoch 41/50\n",
            "83/83 [==============================] - 1s 11ms/step - loss: 0.9114 - accuracy: 0.6315 - val_loss: 0.9019 - val_accuracy: 0.6347\n",
            "Epoch 42/50\n",
            "83/83 [==============================] - 1s 9ms/step - loss: 0.9112 - accuracy: 0.6315 - val_loss: 0.9050 - val_accuracy: 0.6347\n",
            "Epoch 43/50\n",
            "83/83 [==============================] - 1s 11ms/step - loss: 0.9127 - accuracy: 0.6315 - val_loss: 0.9033 - val_accuracy: 0.6347\n",
            "Epoch 44/50\n",
            "83/83 [==============================] - 1s 10ms/step - loss: 0.9135 - accuracy: 0.6315 - val_loss: 0.9042 - val_accuracy: 0.6347\n",
            "Epoch 45/50\n",
            "83/83 [==============================] - 1s 9ms/step - loss: 0.9123 - accuracy: 0.6315 - val_loss: 0.9049 - val_accuracy: 0.6347\n",
            "Epoch 46/50\n",
            "83/83 [==============================] - 1s 9ms/step - loss: 0.9098 - accuracy: 0.6315 - val_loss: 0.9071 - val_accuracy: 0.6347\n",
            "Epoch 47/50\n",
            "83/83 [==============================] - 1s 9ms/step - loss: 0.9118 - accuracy: 0.6315 - val_loss: 0.9041 - val_accuracy: 0.6347\n",
            "Epoch 48/50\n",
            "83/83 [==============================] - 1s 9ms/step - loss: 0.9132 - accuracy: 0.6315 - val_loss: 0.9019 - val_accuracy: 0.6347\n",
            "Epoch 49/50\n",
            "83/83 [==============================] - 1s 9ms/step - loss: 0.9113 - accuracy: 0.6315 - val_loss: 0.9030 - val_accuracy: 0.6347\n",
            "Epoch 50/50\n",
            "83/83 [==============================] - 1s 9ms/step - loss: 0.9124 - accuracy: 0.6315 - val_loss: 0.9018 - val_accuracy: 0.6347\n"
          ]
        },
        {
          "data": {
            "text/plain": [
              "<keras.callbacks.History at 0x177424f10>"
            ]
          },
          "execution_count": 38,
          "metadata": {},
          "output_type": "execute_result"
        }
      ],
      "source": [
        "# model.compile(optimizer='adam',loss='categorical_crossentropy',metrics=['accuracy'])\n",
        "model.fit(data_train,classes_train, validation_data=(data_test,classes_test), epochs=50, batch_size=10)"
      ]
    },
    {
      "cell_type": "code",
      "execution_count": 39,
      "metadata": {
        "id": "KknFuFhx1nk5"
      },
      "outputs": [
        {
          "name": "stdout",
          "output_type": "stream",
          "text": [
            "21/21 [==============================] - 0s 2ms/step\n"
          ]
        },
        {
          "name": "stderr",
          "output_type": "stream",
          "text": [
            "2023-01-05 00:08:46.396755: I tensorflow/core/grappler/optimizers/custom_graph_optimizer_registry.cc:114] Plugin optimizer for device_type GPU is enabled.\n"
          ]
        }
      ],
      "source": [
        "prediksi = model.predict(data_test)"
      ]
    },
    {
      "cell_type": "code",
      "execution_count": 53,
      "metadata": {},
      "outputs": [],
      "source": [
        "maxed_pred = []\n",
        "for a in prediksi:\n",
        "    maxed_pred.append(np.argmax(a))"
      ]
    },
    {
      "cell_type": "code",
      "execution_count": 40,
      "metadata": {
        "id": "IXxDyIkx1nk5",
        "outputId": "9c3815ff-31b3-403c-ee3f-29729be26e0f"
      },
      "outputs": [
        {
          "data": {
            "text/html": [
              "<div>\n",
              "<style scoped>\n",
              "    .dataframe tbody tr th:only-of-type {\n",
              "        vertical-align: middle;\n",
              "    }\n",
              "\n",
              "    .dataframe tbody tr th {\n",
              "        vertical-align: top;\n",
              "    }\n",
              "\n",
              "    .dataframe thead th {\n",
              "        text-align: right;\n",
              "    }\n",
              "</style>\n",
              "<table border=\"1\" class=\"dataframe\">\n",
              "  <thead>\n",
              "    <tr style=\"text-align: right;\">\n",
              "      <th></th>\n",
              "      <th>dispersion_entropy</th>\n",
              "      <th>RDE</th>\n",
              "    </tr>\n",
              "  </thead>\n",
              "  <tbody>\n",
              "    <tr>\n",
              "      <th>3</th>\n",
              "      <td>0.778805</td>\n",
              "      <td>0.549478</td>\n",
              "    </tr>\n",
              "  </tbody>\n",
              "</table>\n",
              "</div>"
            ],
            "text/plain": [
              "   dispersion_entropy       RDE\n",
              "3            0.778805  0.549478"
            ]
          },
          "execution_count": 40,
          "metadata": {},
          "output_type": "execute_result"
        }
      ],
      "source": [
        "data_train.iloc[[3]]"
      ]
    },
    {
      "cell_type": "code",
      "execution_count": 41,
      "metadata": {
        "id": "Ow7LAqK_1nk5",
        "outputId": "cd7744ec-c90e-4073-8be3-4ef0ba48a496"
      },
      "outputs": [
        {
          "name": "stdout",
          "output_type": "stream",
          "text": [
            "1/1 [==============================] - 0s 430ms/step\n"
          ]
        },
        {
          "data": {
            "text/plain": [
              "array([[0.18557896, 0.59161454, 0.22280659]], dtype=float32)"
            ]
          },
          "execution_count": 41,
          "metadata": {},
          "output_type": "execute_result"
        }
      ],
      "source": [
        "model.predict(data_train.iloc[[3]])"
      ]
    },
    {
      "cell_type": "code",
      "execution_count": 43,
      "metadata": {
        "id": "KF2ZcDvR1nk6",
        "outputId": "66830f60-d63e-41d0-d5fa-e8a07252c2ca"
      },
      "outputs": [
        {
          "data": {
            "text/plain": [
              "'GNSZ'"
            ]
          },
          "execution_count": 43,
          "metadata": {},
          "output_type": "execute_result"
        }
      ],
      "source": [
        "names[classes_train[3]]"
      ]
    },
    {
      "cell_type": "code",
      "execution_count": 54,
      "metadata": {
        "id": "XcWFOQQt1nk6",
        "outputId": "0a6d37f7-27d8-45ed-ac3b-160be9e29753"
      },
      "outputs": [
        {
          "name": "stdout",
          "output_type": "stream",
          "text": [
            "Akurasi:  0.6346749226006192\n"
          ]
        }
      ],
      "source": [
        "from sklearn.metrics import accuracy_score\n",
        "acc = accuracy_score(classes_test,maxed_pred)\n",
        "print(\"Akurasi: \",str(acc))"
      ]
    },
    {
      "cell_type": "code",
      "execution_count": 55,
      "metadata": {
        "id": "bTCX_1qn1nk6",
        "outputId": "4d996601-c4d7-4583-eccc-2b1b04d5baad"
      },
      "outputs": [
        {
          "data": {
            "image/png": "[encoded data removed]",
            "text/plain": [
              "<Figure size 1000x600 with 2 Axes>"
            ]
          },
          "metadata": {},
          "output_type": "display_data"
        }
      ],
      "source": [
        "from sklearn.metrics import confusion_matrix\n",
        "import seaborn as sns\n",
        "import matplotlib.pyplot as plt\n",
        "\n",
        "cm = confusion_matrix(classes_test, maxed_pred)\n",
        "plt.subplots(figsize=(10, 6))\n",
        "sns.heatmap(cm, annot = True)\n",
        "plt.xlabel(\"Prediksi\")\n",
        "plt.ylabel(\"Aktual\")\n",
        "plt.title(\"Confusion Matrix\")\n",
        "plt.show()"
      ]
    }
  ],
  "metadata": {
    "colab": {
      "provenance": []
    },
    "kernelspec": {
      "display_name": "Python 3.8.11 ('base')",
      "language": "python",
      "name": "python3"
    },
    "language_info": {
      "codemirror_mode": {
        "name": "ipython",
        "version": 3
      },
      "file_extension": ".py",
      "mimetype": "text/x-python",
      "name": "python",
      "nbconvert_exporter": "python",
      "pygments_lexer": "ipython3",
      "version": "3.8.11"
    },
    "orig_nbformat": 4,
    "vscode": {
      "interpreter": {
        "hash": "220b59355a8dadb4ba3bf77e4f9773cad1e54b32290f811d9d316f35385cbe26"
      }
    }
  },
  "nbformat": 4,
  "nbformat_minor": 0
}
