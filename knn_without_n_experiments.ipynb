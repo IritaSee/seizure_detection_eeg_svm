{
 "cells": [
  {
   "cell_type": "code",
   "execution_count": 1,
   "metadata": {},
   "outputs": [],
   "source": [
    "import numpy as np\n",
    "import pandas as pd\n",
    "from sklearn.model_selection import train_test_split\n",
    "from sklearn import preprocessing\n",
    "from imblearn.over_sampling import SMOTE\n",
    "from sklearn.metrics import confusion_matrix"
   ]
  },
  {
   "cell_type": "code",
   "execution_count": 2,
   "metadata": {},
   "outputs": [],
   "source": [
    "df = pd.read_csv(\"./full_data.csv\")"
   ]
  },
  {
   "cell_type": "code",
   "execution_count": 3,
   "metadata": {},
   "outputs": [],
   "source": [
    "df = df.drop(columns=[\"filename\"])"
   ]
  },
  {
   "attachments": {},
   "cell_type": "markdown",
   "metadata": {},
   "source": [
    "# Down Sampling:"
   ]
  },
  {
   "cell_type": "code",
   "execution_count": 4,
   "metadata": {},
   "outputs": [
    {
     "name": "stdout",
     "output_type": "stream",
     "text": [
      "Total of FNSZ : 230\n",
      "Total of GNSZ : 230\n"
     ]
    }
   ],
   "source": [
    "df=df[df.kelas != \"ABSZ\"]\n",
    "df=df[df.kelas != \"TCSZ\"]\n",
    "df=df[df.kelas != \"TNSZ\"]\n",
    "df=df[df.kelas != \"SPSZ\"]\n",
    "df=df[df.kelas != \"MYSZ\"]\n",
    "value_counts = df['kelas'].value_counts()\n",
    "total_count = df.shape[0]\n",
    "class_counts = []\n",
    "for i in value_counts:\n",
    "    class_counts.append(i)\n",
    "excludeColumn = value_counts.idxmin()\n",
    "columnSaved = value_counts[value_counts.index!=excludeColumn].index\n",
    "minorityClass = df[df.kelas == excludeColumn].index\n",
    "selected_examples = []\n",
    "for col in columnSaved:\n",
    "  major = df[df.kelas == col].index\n",
    "  num_examples = min(class_counts)\n",
    "  \n",
    "  # Loop through each class\n",
    "  class_examples = np.random.choice(major, size=num_examples, replace=False)\n",
    "    \n",
    "    # Add the selected examples to the list\n",
    "  selected_examples.extend(class_examples)\n",
    "  print(\"Total of\",col,\":\",len(class_examples))\n",
    "undersampleIndices = np.concatenate([minorityClass,selected_examples])\n",
    "df = df.loc[undersampleIndices]"
   ]
  },
  {
   "cell_type": "code",
   "execution_count": 5,
   "metadata": {},
   "outputs": [
    {
     "data": {
      "text/plain": [
       "CPSZ    230\n",
       "FNSZ    230\n",
       "GNSZ    230\n",
       "Name: kelas, dtype: int64"
      ]
     },
     "execution_count": 5,
     "metadata": {},
     "output_type": "execute_result"
    }
   ],
   "source": [
    "df.kelas.value_counts()"
   ]
  },
  {
   "attachments": {},
   "cell_type": "markdown",
   "metadata": {},
   "source": [
    "# Tanpa downsampling:"
   ]
  },
  {
   "cell_type": "code",
   "execution_count": 4,
   "metadata": {},
   "outputs": [],
   "source": [
    "df=df[df.kelas != \"ABSZ\"]\n",
    "df=df[df.kelas != \"TCSZ\"]\n",
    "df=df[df.kelas != \"TNSZ\"]\n",
    "df=df[df.kelas != \"SPSZ\"]\n",
    "df=df[df.kelas != \"MYSZ\"]"
   ]
  },
  {
   "attachments": {},
   "cell_type": "markdown",
   "metadata": {},
   "source": [
    "# Label Encoding: "
   ]
  },
  {
   "cell_type": "code",
   "execution_count": 5,
   "metadata": {},
   "outputs": [
    {
     "name": "stdout",
     "output_type": "stream",
     "text": [
      "{'CPSZ': 0, 'FNSZ': 1, 'GNSZ': 2}\n"
     ]
    },
    {
     "data": {
      "text/plain": [
       "array([1, 2, 0])"
      ]
     },
     "execution_count": 5,
     "metadata": {},
     "output_type": "execute_result"
    }
   ],
   "source": [
    "# label_encoder object knows how to understand word labels.\n",
    "label_encoder = preprocessing.LabelEncoder()\n",
    "  \n",
    "# Encode labels in column 'species'.\n",
    "df['kelas']= label_encoder.fit_transform(df['kelas'])\n",
    "le_name_mapping = dict(zip(label_encoder.classes_, \n",
    "                            label_encoder.transform(label_encoder.classes_)))\n",
    "print(le_name_mapping)\n",
    "\n",
    "df['kelas'].unique()"
   ]
  },
  {
   "cell_type": "code",
   "execution_count": 6,
   "metadata": {},
   "outputs": [],
   "source": [
    "y = df['kelas']\n",
    "x = df.drop(columns='kelas') #siapkan x dan y"
   ]
  },
  {
   "attachments": {},
   "cell_type": "markdown",
   "metadata": {},
   "source": [
    "# Over sampling:"
   ]
  },
  {
   "cell_type": "code",
   "execution_count": 7,
   "metadata": {},
   "outputs": [],
   "source": [
    "oversample = SMOTE()\n",
    "x, y = oversample.fit_resample(x, y)"
   ]
  },
  {
   "attachments": {},
   "cell_type": "markdown",
   "metadata": {},
   "source": [
    "# data splitting:"
   ]
  },
  {
   "cell_type": "code",
   "execution_count": 8,
   "metadata": {},
   "outputs": [],
   "source": [
    "# dividing X, y into train and test data\n",
    "X_train, X_test, y_train, y_test = train_test_split(x, y,test_size=0.1, random_state = 0)"
   ]
  },
  {
   "attachments": {},
   "cell_type": "markdown",
   "metadata": {},
   "source": [
    "# KNN:"
   ]
  },
  {
   "attachments": {},
   "cell_type": "markdown",
   "metadata": {},
   "source": [
    "## Euclidean:"
   ]
  },
  {
   "cell_type": "code",
   "execution_count": 9,
   "metadata": {},
   "outputs": [
    {
     "name": "stdout",
     "output_type": "stream",
     "text": [
      "Accuracy: 0.7607142857142857\n",
      "              precision    recall  f1-score   support\n",
      "\n",
      "        CPSZ       0.76      0.89      0.82        95\n",
      "        FNSZ       0.83      0.56      0.67        98\n",
      "        GNSZ       0.72      0.84      0.77        87\n",
      "\n",
      "    accuracy                           0.76       280\n",
      "   macro avg       0.77      0.77      0.75       280\n",
      "weighted avg       0.77      0.76      0.75       280\n",
      "\n"
     ]
    },
    {
     "data": {
      "image/png": "[encoded data removed]",
      "text/plain": [
       "<Figure size 640x480 with 2 Axes>"
      ]
     },
     "metadata": {},
     "output_type": "display_data"
    }
   ],
   "source": [
    "# training a KNN classifier\n",
    "from sklearn.neighbors import KNeighborsClassifier\n",
    "\n",
    "knn = KNeighborsClassifier(n_neighbors = 3, \n",
    "                        metric='euclidean').fit(X_train, y_train)\n",
    "  \n",
    "# accuracy on X_test\n",
    "print(\"Accuracy:\", knn.score(X_test, y_test))\n",
    "  \n",
    "# creating a confusion matrix\n",
    "knn_predictions = knn.predict(X_test) \n",
    "cm = confusion_matrix(y_test, knn_predictions)\n",
    "\n",
    "from sklearn.metrics import classification_report\n",
    "print(classification_report(y_test, knn_predictions, target_names=le_name_mapping.keys()))\n",
    "\n",
    "import seaborn as sns\n",
    "import matplotlib.pyplot as plt\n",
    "\n",
    "sns.heatmap(cm, annot=True, cmap='Blues', fmt='g')\n",
    "plt.xlabel('Predicted')\n",
    "plt.ylabel('True')\n",
    "plt.show()"
   ]
  },
  {
   "attachments": {},
   "cell_type": "markdown",
   "metadata": {},
   "source": [
    "## Cosine:"
   ]
  },
  {
   "cell_type": "code",
   "execution_count": 10,
   "metadata": {},
   "outputs": [
    {
     "name": "stdout",
     "output_type": "stream",
     "text": [
      "Accuracy: 0.5821428571428572\n",
      "              precision    recall  f1-score   support\n",
      "\n",
      "        CPSZ       0.56      0.69      0.62        95\n",
      "        FNSZ       0.52      0.43      0.47        98\n",
      "        GNSZ       0.67      0.63      0.65        87\n",
      "\n",
      "    accuracy                           0.58       280\n",
      "   macro avg       0.58      0.59      0.58       280\n",
      "weighted avg       0.58      0.58      0.58       280\n",
      "\n"
     ]
    },
    {
     "data": {
      "image/png": "[encoded data removed]",
      "text/plain": [
       "<Figure size 640x480 with 2 Axes>"
      ]
     },
     "metadata": {},
     "output_type": "display_data"
    }
   ],
   "source": [
    "# training a KNN classifier\n",
    "from sklearn.neighbors import KNeighborsClassifier\n",
    "knn = KNeighborsClassifier(n_neighbors = 3, \n",
    "                        metric='cosine').fit(X_train, y_train)\n",
    "  \n",
    "# accuracy on X_test\n",
    "print(\"Accuracy:\", knn.score(X_test, y_test))\n",
    "  \n",
    "# creating a confusion matrix\n",
    "knn_predictions = knn.predict(X_test) \n",
    "cm = confusion_matrix(y_test, knn_predictions)\n",
    "\n",
    "from sklearn.metrics import classification_report\n",
    "print(classification_report(y_test, knn_predictions, target_names=le_name_mapping.keys()))\n",
    "\n",
    "import seaborn as sns\n",
    "import matplotlib.pyplot as plt\n",
    "\n",
    "sns.heatmap(cm, annot=True, cmap='Blues', fmt='g')\n",
    "plt.xlabel('Predicted')\n",
    "plt.ylabel('True')\n",
    "plt.show()"
   ]
  },
  {
   "attachments": {},
   "cell_type": "markdown",
   "metadata": {},
   "source": [
    "## Cityblock:"
   ]
  },
  {
   "cell_type": "code",
   "execution_count": 11,
   "metadata": {},
   "outputs": [
    {
     "name": "stdout",
     "output_type": "stream",
     "text": [
      "Accuracy: 0.75\n",
      "              precision    recall  f1-score   support\n",
      "\n",
      "        CPSZ       0.75      0.87      0.81        95\n",
      "        FNSZ       0.79      0.55      0.65        98\n",
      "        GNSZ       0.72      0.84      0.78        87\n",
      "\n",
      "    accuracy                           0.75       280\n",
      "   macro avg       0.75      0.75      0.74       280\n",
      "weighted avg       0.76      0.75      0.74       280\n",
      "\n"
     ]
    },
    {
     "data": {
      "image/png": "[encoded data removed]",
      "text/plain": [
       "<Figure size 640x480 with 2 Axes>"
      ]
     },
     "metadata": {},
     "output_type": "display_data"
    }
   ],
   "source": [
    "# training a KNN classifier\n",
    "from sklearn.neighbors import KNeighborsClassifier\n",
    "knn = KNeighborsClassifier(n_neighbors = 3, \n",
    "                        metric='cityblock').fit(X_train, y_train)\n",
    "  \n",
    "# accuracy on X_test\n",
    "print(\"Accuracy:\", knn.score(X_test, y_test))\n",
    "  \n",
    "# creating a confusion matrix\n",
    "knn_predictions = knn.predict(X_test) \n",
    "cm = confusion_matrix(y_test, knn_predictions)\n",
    "\n",
    "from sklearn.metrics import classification_report\n",
    "print(classification_report(y_test, knn_predictions, target_names=le_name_mapping.keys()))\n",
    "\n",
    "import seaborn as sns\n",
    "import matplotlib.pyplot as plt\n",
    "\n",
    "sns.heatmap(cm, annot=True, cmap='Blues', fmt='g')\n",
    "plt.xlabel('Predicted')\n",
    "plt.ylabel('True')\n",
    "plt.show()"
   ]
  },
  {
   "attachments": {},
   "cell_type": "markdown",
   "metadata": {},
   "source": [
    "## Minkowski:"
   ]
  },
  {
   "cell_type": "code",
   "execution_count": 12,
   "metadata": {},
   "outputs": [
    {
     "name": "stdout",
     "output_type": "stream",
     "text": [
      "Accuracy: 0.7607142857142857\n",
      "              precision    recall  f1-score   support\n",
      "\n",
      "        CPSZ       0.76      0.89      0.82        95\n",
      "        FNSZ       0.83      0.56      0.67        98\n",
      "        GNSZ       0.72      0.84      0.77        87\n",
      "\n",
      "    accuracy                           0.76       280\n",
      "   macro avg       0.77      0.77      0.75       280\n",
      "weighted avg       0.77      0.76      0.75       280\n",
      "\n"
     ]
    },
    {
     "data": {
      "image/png": "[encoded data removed]",
      "text/plain": [
       "<Figure size 640x480 with 2 Axes>"
      ]
     },
     "metadata": {},
     "output_type": "display_data"
    }
   ],
   "source": [
    "# training a KNN classifier\n",
    "from sklearn.neighbors import KNeighborsClassifier\n",
    "knn = KNeighborsClassifier(n_neighbors = 3, \n",
    "                        metric='minkowski').fit(X_train, y_train)\n",
    "  \n",
    "# accuracy on X_test\n",
    "print(\"Accuracy:\", knn.score(X_test, y_test))\n",
    "  \n",
    "# creating a confusion matrix\n",
    "knn_predictions = knn.predict(X_test) \n",
    "cm = confusion_matrix(y_test, knn_predictions)\n",
    "\n",
    "from sklearn.metrics import classification_report\n",
    "print(classification_report(y_test, knn_predictions, target_names=le_name_mapping.keys()))\n",
    "\n",
    "import seaborn as sns\n",
    "import matplotlib.pyplot as plt\n",
    "\n",
    "sns.heatmap(cm, annot=True, cmap='Blues', fmt='g')\n",
    "plt.xlabel('Predicted')\n",
    "plt.ylabel('True')\n",
    "plt.show()"
   ]
  },
  {
   "attachments": {},
   "cell_type": "markdown",
   "metadata": {},
   "source": [
    "## Correlation:"
   ]
  },
  {
   "cell_type": "code",
   "execution_count": 13,
   "metadata": {},
   "outputs": [
    {
     "name": "stdout",
     "output_type": "stream",
     "text": [
      "Accuracy: 0.3392857142857143\n",
      "              precision    recall  f1-score   support\n",
      "\n",
      "        CPSZ       0.34      0.94      0.50        95\n",
      "        FNSZ       0.40      0.02      0.04        98\n",
      "        GNSZ       0.24      0.05      0.08        87\n",
      "\n",
      "    accuracy                           0.34       280\n",
      "   macro avg       0.33      0.33      0.21       280\n",
      "weighted avg       0.33      0.34      0.21       280\n",
      "\n"
     ]
    },
    {
     "data": {
      "image/png": "[encoded data removed]",
      "text/plain": [
       "<Figure size 640x480 with 2 Axes>"
      ]
     },
     "metadata": {},
     "output_type": "display_data"
    }
   ],
   "source": [
    "# training a KNN classifier\n",
    "from sklearn.neighbors import KNeighborsClassifier\n",
    "import scipy\n",
    "knn = KNeighborsClassifier(n_neighbors = 3, \n",
    "                       metric='correlation').fit(X_train, y_train)\n",
    "  \n",
    "# accuracy on X_test\n",
    "print(\"Accuracy:\", knn.score(X_test, y_test))\n",
    "  \n",
    "# creating a confusion matrix\n",
    "knn_predictions = knn.predict(X_test) \n",
    "cm = confusion_matrix(y_test, knn_predictions)\n",
    "\n",
    "from sklearn.metrics import classification_report\n",
    "print(classification_report(y_test, knn_predictions, target_names=le_name_mapping.keys()))\n",
    "\n",
    "import seaborn as sns\n",
    "import matplotlib.pyplot as plt\n",
    "\n",
    "sns.heatmap(cm, annot=True, cmap='Blues', fmt='g')\n",
    "plt.xlabel('Predicted')\n",
    "plt.ylabel('True')\n",
    "plt.show()"
   ]
  }
 ],
 "metadata": {
  "kernelspec": {
   "display_name": "Python 3 (ipykernel)",
   "language": "python",
   "name": "python3"
  },
  "language_info": {
   "codemirror_mode": {
    "name": "ipython",
    "version": 3
   },
   "file_extension": ".py",
   "mimetype": "text/x-python",
   "name": "python",
   "nbconvert_exporter": "python",
   "pygments_lexer": "ipython3",
   "version": "3.8.11 (default, Jul 29 2021, 14:57:32) \n[Clang 12.0.0 ]"
  },
  "orig_nbformat": 4,
  "vscode": {
   "interpreter": {
    "hash": "220b59355a8dadb4ba3bf77e4f9773cad1e54b32290f811d9d316f35385cbe26"
   }
  }
 },
 "nbformat": 4,
 "nbformat_minor": 2
}
