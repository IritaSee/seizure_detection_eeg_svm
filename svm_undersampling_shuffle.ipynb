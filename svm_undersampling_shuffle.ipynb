{
 "cells": [
  {
   "cell_type": "code",
   "execution_count": 2,
   "metadata": {},
   "outputs": [],
   "source": [
    "from sklearn import svm\n",
    "\n",
    "classifier = svm.SVC()"
   ]
  },
  {
   "cell_type": "code",
   "execution_count": 3,
   "metadata": {},
   "outputs": [],
   "source": [
    "import numpy as np\n",
    "import pandas as pd"
   ]
  },
  {
   "attachments": {},
   "cell_type": "markdown",
   "metadata": {},
   "source": [
    "dataset: https://drive.google.com/drive/folders/1NyR0vskEpEGSqumluxfpE22KkS956r9L?usp=sharing"
   ]
  },
  {
   "cell_type": "code",
   "execution_count": 4,
   "metadata": {},
   "outputs": [
    {
     "data": {
      "text/html": [
       "<div>\n",
       "<style scoped>\n",
       "    .dataframe tbody tr th:only-of-type {\n",
       "        vertical-align: middle;\n",
       "    }\n",
       "\n",
       "    .dataframe tbody tr th {\n",
       "        vertical-align: top;\n",
       "    }\n",
       "\n",
       "    .dataframe thead th {\n",
       "        text-align: right;\n",
       "    }\n",
       "</style>\n",
       "<table border=\"1\" class=\"dataframe\">\n",
       "  <thead>\n",
       "    <tr style=\"text-align: right;\">\n",
       "      <th></th>\n",
       "      <th>filename</th>\n",
       "      <th>dispersion_entropy</th>\n",
       "      <th>RDE</th>\n",
       "      <th>kelas</th>\n",
       "    </tr>\n",
       "  </thead>\n",
       "  <tbody>\n",
       "    <tr>\n",
       "      <th>648</th>\n",
       "      <td>TNSZ003.mat</td>\n",
       "      <td>2.107550</td>\n",
       "      <td>0.014900</td>\n",
       "      <td>TNSZ</td>\n",
       "    </tr>\n",
       "    <tr>\n",
       "      <th>528</th>\n",
       "      <td>FNSZ239.mat</td>\n",
       "      <td>1.152314</td>\n",
       "      <td>0.376651</td>\n",
       "      <td>FNSZ</td>\n",
       "    </tr>\n",
       "    <tr>\n",
       "      <th>848</th>\n",
       "      <td>FNSZ062.mat</td>\n",
       "      <td>1.850225</td>\n",
       "      <td>0.061050</td>\n",
       "      <td>FNSZ</td>\n",
       "    </tr>\n",
       "    <tr>\n",
       "      <th>26</th>\n",
       "      <td>FNSZ292.mat</td>\n",
       "      <td>2.174881</td>\n",
       "      <td>0.004826</td>\n",
       "      <td>FNSZ</td>\n",
       "    </tr>\n",
       "    <tr>\n",
       "      <th>679</th>\n",
       "      <td>GNSZ164.mat</td>\n",
       "      <td>2.150015</td>\n",
       "      <td>0.010577</td>\n",
       "      <td>GNSZ</td>\n",
       "    </tr>\n",
       "    <tr>\n",
       "      <th>...</th>\n",
       "      <td>...</td>\n",
       "      <td>...</td>\n",
       "      <td>...</td>\n",
       "      <td>...</td>\n",
       "    </tr>\n",
       "    <tr>\n",
       "      <th>144</th>\n",
       "      <td>GNSZ142.mat</td>\n",
       "      <td>1.374193</td>\n",
       "      <td>0.249921</td>\n",
       "      <td>GNSZ</td>\n",
       "    </tr>\n",
       "    <tr>\n",
       "      <th>534</th>\n",
       "      <td>TCSZ004.mat</td>\n",
       "      <td>1.662201</td>\n",
       "      <td>0.163513</td>\n",
       "      <td>TCSZ</td>\n",
       "    </tr>\n",
       "    <tr>\n",
       "      <th>728</th>\n",
       "      <td>FNSZ501.mat</td>\n",
       "      <td>2.077221</td>\n",
       "      <td>0.024062</td>\n",
       "      <td>FNSZ</td>\n",
       "    </tr>\n",
       "    <tr>\n",
       "      <th>603</th>\n",
       "      <td>FNSZ362.mat</td>\n",
       "      <td>1.973209</td>\n",
       "      <td>0.049889</td>\n",
       "      <td>FNSZ</td>\n",
       "    </tr>\n",
       "    <tr>\n",
       "      <th>571</th>\n",
       "      <td>GNSZ100.mat</td>\n",
       "      <td>2.081728</td>\n",
       "      <td>0.021713</td>\n",
       "      <td>GNSZ</td>\n",
       "    </tr>\n",
       "  </tbody>\n",
       "</table>\n",
       "<p>866 rows × 4 columns</p>\n",
       "</div>"
      ],
      "text/plain": [
       "        filename  dispersion_entropy       RDE kelas\n",
       "648  TNSZ003.mat            2.107550  0.014900  TNSZ\n",
       "528  FNSZ239.mat            1.152314  0.376651  FNSZ\n",
       "848  FNSZ062.mat            1.850225  0.061050  FNSZ\n",
       "26   FNSZ292.mat            2.174881  0.004826  FNSZ\n",
       "679  GNSZ164.mat            2.150015  0.010577  GNSZ\n",
       "..           ...                 ...       ...   ...\n",
       "144  GNSZ142.mat            1.374193  0.249921  GNSZ\n",
       "534  TCSZ004.mat            1.662201  0.163513  TCSZ\n",
       "728  FNSZ501.mat            2.077221  0.024062  FNSZ\n",
       "603  FNSZ362.mat            1.973209  0.049889  FNSZ\n",
       "571  GNSZ100.mat            2.081728  0.021713  GNSZ\n",
       "\n",
       "[866 rows x 4 columns]"
      ]
     },
     "execution_count": 4,
     "metadata": {},
     "output_type": "execute_result"
    }
   ],
   "source": [
    "data_train = pd.read_csv(\"./train.csv\")\n",
    "data_train = data_train.sample(frac=1)\n",
    "data_train"
   ]
  },
  {
   "cell_type": "code",
   "execution_count": 5,
   "metadata": {},
   "outputs": [
    {
     "data": {
      "text/html": [
       "<div>\n",
       "<style scoped>\n",
       "    .dataframe tbody tr th:only-of-type {\n",
       "        vertical-align: middle;\n",
       "    }\n",
       "\n",
       "    .dataframe tbody tr th {\n",
       "        vertical-align: top;\n",
       "    }\n",
       "\n",
       "    .dataframe thead th {\n",
       "        text-align: right;\n",
       "    }\n",
       "</style>\n",
       "<table border=\"1\" class=\"dataframe\">\n",
       "  <thead>\n",
       "    <tr style=\"text-align: right;\">\n",
       "      <th></th>\n",
       "      <th>filename</th>\n",
       "      <th>dispersion_entropy</th>\n",
       "      <th>RDE</th>\n",
       "      <th>kelas</th>\n",
       "    </tr>\n",
       "  </thead>\n",
       "  <tbody>\n",
       "    <tr>\n",
       "      <th>209</th>\n",
       "      <td>FNSZ635.mat</td>\n",
       "      <td>0.272718</td>\n",
       "      <td>0.778615</td>\n",
       "      <td>FNSZ</td>\n",
       "    </tr>\n",
       "    <tr>\n",
       "      <th>525</th>\n",
       "      <td>FNSZ571.mat</td>\n",
       "      <td>2.172198</td>\n",
       "      <td>0.005245</td>\n",
       "      <td>FNSZ</td>\n",
       "    </tr>\n",
       "    <tr>\n",
       "      <th>530</th>\n",
       "      <td>FNSZ773.mat</td>\n",
       "      <td>2.053752</td>\n",
       "      <td>0.020498</td>\n",
       "      <td>FNSZ</td>\n",
       "    </tr>\n",
       "    <tr>\n",
       "      <th>129</th>\n",
       "      <td>FNSZ724.mat</td>\n",
       "      <td>2.075635</td>\n",
       "      <td>0.016947</td>\n",
       "      <td>FNSZ</td>\n",
       "    </tr>\n",
       "    <tr>\n",
       "      <th>529</th>\n",
       "      <td>FNSZ767.mat</td>\n",
       "      <td>2.081864</td>\n",
       "      <td>0.017060</td>\n",
       "      <td>FNSZ</td>\n",
       "    </tr>\n",
       "    <tr>\n",
       "      <th>...</th>\n",
       "      <td>...</td>\n",
       "      <td>...</td>\n",
       "      <td>...</td>\n",
       "      <td>...</td>\n",
       "    </tr>\n",
       "    <tr>\n",
       "      <th>155</th>\n",
       "      <td>ABSZ026.mat</td>\n",
       "      <td>1.318601</td>\n",
       "      <td>0.230646</td>\n",
       "      <td>ABSZ</td>\n",
       "    </tr>\n",
       "    <tr>\n",
       "      <th>146</th>\n",
       "      <td>FNSZ686.mat</td>\n",
       "      <td>1.474817</td>\n",
       "      <td>0.157472</td>\n",
       "      <td>FNSZ</td>\n",
       "    </tr>\n",
       "    <tr>\n",
       "      <th>622</th>\n",
       "      <td>CPSZ137.mat</td>\n",
       "      <td>1.759263</td>\n",
       "      <td>0.098682</td>\n",
       "      <td>CPSZ</td>\n",
       "    </tr>\n",
       "    <tr>\n",
       "      <th>18</th>\n",
       "      <td>FNSZ537.mat</td>\n",
       "      <td>1.712928</td>\n",
       "      <td>0.097982</td>\n",
       "      <td>FNSZ</td>\n",
       "    </tr>\n",
       "    <tr>\n",
       "      <th>520</th>\n",
       "      <td>CPSZ209.mat</td>\n",
       "      <td>1.848481</td>\n",
       "      <td>0.082191</td>\n",
       "      <td>CPSZ</td>\n",
       "    </tr>\n",
       "  </tbody>\n",
       "</table>\n",
       "<p>685 rows × 4 columns</p>\n",
       "</div>"
      ],
      "text/plain": [
       "        filename  dispersion_entropy       RDE kelas\n",
       "209  FNSZ635.mat            0.272718  0.778615  FNSZ\n",
       "525  FNSZ571.mat            2.172198  0.005245  FNSZ\n",
       "530  FNSZ773.mat            2.053752  0.020498  FNSZ\n",
       "129  FNSZ724.mat            2.075635  0.016947  FNSZ\n",
       "529  FNSZ767.mat            2.081864  0.017060  FNSZ\n",
       "..           ...                 ...       ...   ...\n",
       "155  ABSZ026.mat            1.318601  0.230646  ABSZ\n",
       "146  FNSZ686.mat            1.474817  0.157472  FNSZ\n",
       "622  CPSZ137.mat            1.759263  0.098682  CPSZ\n",
       "18   FNSZ537.mat            1.712928  0.097982  FNSZ\n",
       "520  CPSZ209.mat            1.848481  0.082191  CPSZ\n",
       "\n",
       "[685 rows x 4 columns]"
      ]
     },
     "execution_count": 5,
     "metadata": {},
     "output_type": "execute_result"
    }
   ],
   "source": [
    "data_test = pd.read_csv('./test.csv')\n",
    "data_test = data_test.sample(frac=1)\n",
    "data_test"
   ]
  },
  {
   "cell_type": "code",
   "execution_count": 6,
   "metadata": {},
   "outputs": [
    {
     "data": {
      "text/plain": [
       "FNSZ    410\n",
       "GNSZ    138\n",
       "CPSZ     98\n",
       "ABSZ     14\n",
       "TCSZ      9\n",
       "TNSZ      9\n",
       "SPSZ      5\n",
       "MYSZ      2\n",
       "Name: kelas, dtype: int64"
      ]
     },
     "execution_count": 6,
     "metadata": {},
     "output_type": "execute_result"
    }
   ],
   "source": [
    "data_test['kelas'].value_counts()"
   ]
  },
  {
   "cell_type": "code",
   "execution_count": 7,
   "metadata": {},
   "outputs": [
    {
     "data": {
      "text/plain": [
       "FNSZ    250\n",
       "GNSZ    138\n",
       "CPSZ     98\n",
       "Name: kelas, dtype: int64"
      ]
     },
     "execution_count": 7,
     "metadata": {},
     "output_type": "execute_result"
    }
   ],
   "source": [
    "data_test=data_test[data_test.kelas != \"ABSZ\"]\n",
    "data_test=data_test[data_test.kelas != \"TCSZ\"]\n",
    "data_test=data_test[data_test.kelas != \"TNSZ\"]\n",
    "data_test=data_test[data_test.kelas != \"SPSZ\"]\n",
    "data_test=data_test[data_test.kelas != \"MYSZ\"]\n",
    "\n",
    "for a in range(250):\n",
    "    if(data_test['kelas'].iloc[a] == \"FNSZ\"):\n",
    "        data_test = data_test.drop(data_test.iloc[a].name)\n",
    "\n",
    "\n",
    "data_test['kelas'].value_counts()"
   ]
  },
  {
   "cell_type": "code",
   "execution_count": 8,
   "metadata": {},
   "outputs": [
    {
     "data": {
      "text/plain": [
       "FNSZ    521\n",
       "GNSZ    172\n",
       "CPSZ    132\n",
       "ABSZ     14\n",
       "TCSZ     11\n",
       "TNSZ      9\n",
       "SPSZ      5\n",
       "MYSZ      2\n",
       "Name: kelas, dtype: int64"
      ]
     },
     "execution_count": 8,
     "metadata": {},
     "output_type": "execute_result"
    }
   ],
   "source": [
    "data_train['kelas'].value_counts()"
   ]
  },
  {
   "cell_type": "code",
   "execution_count": 9,
   "metadata": {},
   "outputs": [
    {
     "data": {
      "text/plain": [
       "FNSZ    322\n",
       "GNSZ    172\n",
       "CPSZ    132\n",
       "Name: kelas, dtype: int64"
      ]
     },
     "execution_count": 9,
     "metadata": {},
     "output_type": "execute_result"
    }
   ],
   "source": [
    "data_train=data_train[data_train.kelas != \"ABSZ\"]\n",
    "data_train=data_train[data_train.kelas != \"TCSZ\"]\n",
    "data_train=data_train[data_train.kelas != \"TNSZ\"]\n",
    "data_train=data_train[data_train.kelas != \"SPSZ\"]\n",
    "data_train=data_train[data_train.kelas != \"MYSZ\"]\n",
    "data_train['kelas'].value_counts()\n",
    "\n",
    "for a in range(310):\n",
    "    if(data_train['kelas'].iloc[a] == \"FNSZ\"):\n",
    "        data_train = data_train.drop(data_train.iloc[a].name)\n",
    "\n",
    "\n",
    "data_train['kelas'].value_counts()"
   ]
  },
  {
   "cell_type": "code",
   "execution_count": 10,
   "metadata": {},
   "outputs": [
    {
     "data": {
      "text/plain": [
       "FNSZ    303\n",
       "GNSZ    172\n",
       "CPSZ    132\n",
       "Name: kelas, dtype: int64"
      ]
     },
     "execution_count": 10,
     "metadata": {},
     "output_type": "execute_result"
    }
   ],
   "source": [
    "for a in range(200,250):\n",
    "    if(data_train['kelas'].iloc[a] == \"FNSZ\"):\n",
    "        data_train = data_train.drop(data_train.iloc[a].name)\n",
    "\n",
    "\n",
    "data_train['kelas'].value_counts()"
   ]
  },
  {
   "cell_type": "code",
   "execution_count": 11,
   "metadata": {},
   "outputs": [
    {
     "data": {
      "text/html": [
       "<div>\n",
       "<style scoped>\n",
       "    .dataframe tbody tr th:only-of-type {\n",
       "        vertical-align: middle;\n",
       "    }\n",
       "\n",
       "    .dataframe tbody tr th {\n",
       "        vertical-align: top;\n",
       "    }\n",
       "\n",
       "    .dataframe thead th {\n",
       "        text-align: right;\n",
       "    }\n",
       "</style>\n",
       "<table border=\"1\" class=\"dataframe\">\n",
       "  <thead>\n",
       "    <tr style=\"text-align: right;\">\n",
       "      <th></th>\n",
       "      <th>dispersion_entropy</th>\n",
       "      <th>RDE</th>\n",
       "      <th>kelas</th>\n",
       "    </tr>\n",
       "  </thead>\n",
       "  <tbody>\n",
       "    <tr>\n",
       "      <th>848</th>\n",
       "      <td>1.850225</td>\n",
       "      <td>0.061050</td>\n",
       "      <td>FNSZ</td>\n",
       "    </tr>\n",
       "    <tr>\n",
       "      <th>679</th>\n",
       "      <td>2.150015</td>\n",
       "      <td>0.010577</td>\n",
       "      <td>GNSZ</td>\n",
       "    </tr>\n",
       "    <tr>\n",
       "      <th>152</th>\n",
       "      <td>2.110545</td>\n",
       "      <td>0.014043</td>\n",
       "      <td>FNSZ</td>\n",
       "    </tr>\n",
       "    <tr>\n",
       "      <th>261</th>\n",
       "      <td>2.111614</td>\n",
       "      <td>0.018362</td>\n",
       "      <td>GNSZ</td>\n",
       "    </tr>\n",
       "    <tr>\n",
       "      <th>143</th>\n",
       "      <td>2.127903</td>\n",
       "      <td>0.014744</td>\n",
       "      <td>GNSZ</td>\n",
       "    </tr>\n",
       "    <tr>\n",
       "      <th>...</th>\n",
       "      <td>...</td>\n",
       "      <td>...</td>\n",
       "      <td>...</td>\n",
       "    </tr>\n",
       "    <tr>\n",
       "      <th>27</th>\n",
       "      <td>2.178602</td>\n",
       "      <td>0.003845</td>\n",
       "      <td>FNSZ</td>\n",
       "    </tr>\n",
       "    <tr>\n",
       "      <th>144</th>\n",
       "      <td>1.374193</td>\n",
       "      <td>0.249921</td>\n",
       "      <td>GNSZ</td>\n",
       "    </tr>\n",
       "    <tr>\n",
       "      <th>728</th>\n",
       "      <td>2.077221</td>\n",
       "      <td>0.024062</td>\n",
       "      <td>FNSZ</td>\n",
       "    </tr>\n",
       "    <tr>\n",
       "      <th>603</th>\n",
       "      <td>1.973209</td>\n",
       "      <td>0.049889</td>\n",
       "      <td>FNSZ</td>\n",
       "    </tr>\n",
       "    <tr>\n",
       "      <th>571</th>\n",
       "      <td>2.081728</td>\n",
       "      <td>0.021713</td>\n",
       "      <td>GNSZ</td>\n",
       "    </tr>\n",
       "  </tbody>\n",
       "</table>\n",
       "<p>607 rows × 3 columns</p>\n",
       "</div>"
      ],
      "text/plain": [
       "     dispersion_entropy       RDE kelas\n",
       "848            1.850225  0.061050  FNSZ\n",
       "679            2.150015  0.010577  GNSZ\n",
       "152            2.110545  0.014043  FNSZ\n",
       "261            2.111614  0.018362  GNSZ\n",
       "143            2.127903  0.014744  GNSZ\n",
       "..                  ...       ...   ...\n",
       "27             2.178602  0.003845  FNSZ\n",
       "144            1.374193  0.249921  GNSZ\n",
       "728            2.077221  0.024062  FNSZ\n",
       "603            1.973209  0.049889  FNSZ\n",
       "571            2.081728  0.021713  GNSZ\n",
       "\n",
       "[607 rows x 3 columns]"
      ]
     },
     "execution_count": 11,
     "metadata": {},
     "output_type": "execute_result"
    }
   ],
   "source": [
    "data_train = data_train.drop(columns=[\"filename\"])\n",
    "data_train"
   ]
  },
  {
   "cell_type": "code",
   "execution_count": 12,
   "metadata": {},
   "outputs": [],
   "source": [
    "classes_train = np.array(data_train['kelas'])\n",
    "data_train = data_train.drop(columns=[\"kelas\"])"
   ]
  },
  {
   "cell_type": "code",
   "execution_count": 13,
   "metadata": {},
   "outputs": [
    {
     "data": {
      "text/html": [
       "<div>\n",
       "<style scoped>\n",
       "    .dataframe tbody tr th:only-of-type {\n",
       "        vertical-align: middle;\n",
       "    }\n",
       "\n",
       "    .dataframe tbody tr th {\n",
       "        vertical-align: top;\n",
       "    }\n",
       "\n",
       "    .dataframe thead th {\n",
       "        text-align: right;\n",
       "    }\n",
       "</style>\n",
       "<table border=\"1\" class=\"dataframe\">\n",
       "  <thead>\n",
       "    <tr style=\"text-align: right;\">\n",
       "      <th></th>\n",
       "      <th>dispersion_entropy</th>\n",
       "      <th>RDE</th>\n",
       "    </tr>\n",
       "  </thead>\n",
       "  <tbody>\n",
       "    <tr>\n",
       "      <th>848</th>\n",
       "      <td>1.850225</td>\n",
       "      <td>0.061050</td>\n",
       "    </tr>\n",
       "    <tr>\n",
       "      <th>679</th>\n",
       "      <td>2.150015</td>\n",
       "      <td>0.010577</td>\n",
       "    </tr>\n",
       "    <tr>\n",
       "      <th>152</th>\n",
       "      <td>2.110545</td>\n",
       "      <td>0.014043</td>\n",
       "    </tr>\n",
       "    <tr>\n",
       "      <th>261</th>\n",
       "      <td>2.111614</td>\n",
       "      <td>0.018362</td>\n",
       "    </tr>\n",
       "    <tr>\n",
       "      <th>143</th>\n",
       "      <td>2.127903</td>\n",
       "      <td>0.014744</td>\n",
       "    </tr>\n",
       "    <tr>\n",
       "      <th>...</th>\n",
       "      <td>...</td>\n",
       "      <td>...</td>\n",
       "    </tr>\n",
       "    <tr>\n",
       "      <th>27</th>\n",
       "      <td>2.178602</td>\n",
       "      <td>0.003845</td>\n",
       "    </tr>\n",
       "    <tr>\n",
       "      <th>144</th>\n",
       "      <td>1.374193</td>\n",
       "      <td>0.249921</td>\n",
       "    </tr>\n",
       "    <tr>\n",
       "      <th>728</th>\n",
       "      <td>2.077221</td>\n",
       "      <td>0.024062</td>\n",
       "    </tr>\n",
       "    <tr>\n",
       "      <th>603</th>\n",
       "      <td>1.973209</td>\n",
       "      <td>0.049889</td>\n",
       "    </tr>\n",
       "    <tr>\n",
       "      <th>571</th>\n",
       "      <td>2.081728</td>\n",
       "      <td>0.021713</td>\n",
       "    </tr>\n",
       "  </tbody>\n",
       "</table>\n",
       "<p>607 rows × 2 columns</p>\n",
       "</div>"
      ],
      "text/plain": [
       "     dispersion_entropy       RDE\n",
       "848            1.850225  0.061050\n",
       "679            2.150015  0.010577\n",
       "152            2.110545  0.014043\n",
       "261            2.111614  0.018362\n",
       "143            2.127903  0.014744\n",
       "..                  ...       ...\n",
       "27             2.178602  0.003845\n",
       "144            1.374193  0.249921\n",
       "728            2.077221  0.024062\n",
       "603            1.973209  0.049889\n",
       "571            2.081728  0.021713\n",
       "\n",
       "[607 rows x 2 columns]"
      ]
     },
     "execution_count": 13,
     "metadata": {},
     "output_type": "execute_result"
    }
   ],
   "source": [
    "data_train"
   ]
  },
  {
   "cell_type": "code",
   "execution_count": 14,
   "metadata": {},
   "outputs": [
    {
     "data": {
      "text/plain": [
       "SVC()"
      ]
     },
     "execution_count": 14,
     "metadata": {},
     "output_type": "execute_result"
    }
   ],
   "source": [
    "classifier.fit(data_train,classes_train)"
   ]
  },
  {
   "cell_type": "code",
   "execution_count": 15,
   "metadata": {},
   "outputs": [],
   "source": [
    "data_test = data_test.drop(columns=[\"filename\"])\n",
    "classes_test = np.array(data_test['kelas'])\n",
    "data_test = data_test.drop(columns=[\"kelas\"])"
   ]
  },
  {
   "cell_type": "code",
   "execution_count": 16,
   "metadata": {},
   "outputs": [],
   "source": [
    "prediksi = classifier.predict(data_test)"
   ]
  },
  {
   "cell_type": "code",
   "execution_count": 17,
   "metadata": {},
   "outputs": [
    {
     "data": {
      "text/html": [
       "<div>\n",
       "<style scoped>\n",
       "    .dataframe tbody tr th:only-of-type {\n",
       "        vertical-align: middle;\n",
       "    }\n",
       "\n",
       "    .dataframe tbody tr th {\n",
       "        vertical-align: top;\n",
       "    }\n",
       "\n",
       "    .dataframe thead th {\n",
       "        text-align: right;\n",
       "    }\n",
       "</style>\n",
       "<table border=\"1\" class=\"dataframe\">\n",
       "  <thead>\n",
       "    <tr style=\"text-align: right;\">\n",
       "      <th></th>\n",
       "      <th>dispersion_entropy</th>\n",
       "      <th>RDE</th>\n",
       "    </tr>\n",
       "  </thead>\n",
       "  <tbody>\n",
       "    <tr>\n",
       "      <th>261</th>\n",
       "      <td>2.111614</td>\n",
       "      <td>0.018362</td>\n",
       "    </tr>\n",
       "  </tbody>\n",
       "</table>\n",
       "</div>"
      ],
      "text/plain": [
       "     dispersion_entropy       RDE\n",
       "261            2.111614  0.018362"
      ]
     },
     "execution_count": 17,
     "metadata": {},
     "output_type": "execute_result"
    }
   ],
   "source": [
    "data_train.iloc[[3]]"
   ]
  },
  {
   "cell_type": "code",
   "execution_count": 18,
   "metadata": {},
   "outputs": [
    {
     "data": {
      "text/plain": [
       "array(['FNSZ'], dtype=object)"
      ]
     },
     "execution_count": 18,
     "metadata": {},
     "output_type": "execute_result"
    }
   ],
   "source": [
    "classifier.predict(data_train.iloc[[3]])"
   ]
  },
  {
   "cell_type": "code",
   "execution_count": 19,
   "metadata": {},
   "outputs": [
    {
     "data": {
      "text/plain": [
       "'GNSZ'"
      ]
     },
     "execution_count": 19,
     "metadata": {},
     "output_type": "execute_result"
    }
   ],
   "source": [
    "classes_train[3]"
   ]
  },
  {
   "cell_type": "code",
   "execution_count": 20,
   "metadata": {},
   "outputs": [
    {
     "name": "stdout",
     "output_type": "stream",
     "text": [
      "Akurasi:  0.51440329218107\n"
     ]
    }
   ],
   "source": [
    "from sklearn.metrics import accuracy_score\n",
    "acc = accuracy_score(classes_test,prediksi)\n",
    "print(\"Akurasi: \",str(acc))"
   ]
  },
  {
   "cell_type": "code",
   "execution_count": 21,
   "metadata": {},
   "outputs": [
    {
     "data": {
      "image/png": "[encoded data removed]",
      "text/plain": [
       "<Figure size 1000x600 with 2 Axes>"
      ]
     },
     "metadata": {},
     "output_type": "display_data"
    }
   ],
   "source": [
    "from sklearn.metrics import confusion_matrix\n",
    "import seaborn as sns\n",
    "import matplotlib.pyplot as plt\n",
    "\n",
    "cm = confusion_matrix(classes_test, prediksi)\n",
    "plt.subplots(figsize=(10, 6))\n",
    "sns.heatmap(cm, annot = True)\n",
    "plt.xlabel(\"Prediksi\")\n",
    "plt.ylabel(\"Aktual\")\n",
    "plt.title(\"Confusion Matrix\")\n",
    "plt.show()"
   ]
  }
 ],
 "metadata": {
  "kernelspec": {
   "display_name": "Python 3.8.11 ('base')",
   "language": "python",
   "name": "python3"
  },
  "language_info": {
   "codemirror_mode": {
    "name": "ipython",
    "version": 3
   },
   "file_extension": ".py",
   "mimetype": "text/x-python",
   "name": "python",
   "nbconvert_exporter": "python",
   "pygments_lexer": "ipython3",
   "version": "3.8.11 (default, Jul 29 2021, 14:57:32) \n[Clang 12.0.0 ]"
  },
  "orig_nbformat": 4,
  "vscode": {
   "interpreter": {
    "hash": "220b59355a8dadb4ba3bf77e4f9773cad1e54b32290f811d9d316f35385cbe26"
   }
  }
 },
 "nbformat": 4,
 "nbformat_minor": 2
}
