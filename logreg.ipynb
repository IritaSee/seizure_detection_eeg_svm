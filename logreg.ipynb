{
 "cells": [
  {
   "cell_type": "code",
   "execution_count": 65,
   "metadata": {},
   "outputs": [],
   "source": [
    "import numpy as np\n",
    "import pandas as pd\n",
    "from sklearn.model_selection import KFold, cross_val_score\n",
    "from sklearn.linear_model import LogisticRegression"
   ]
  },
  {
   "cell_type": "code",
   "execution_count": 66,
   "metadata": {},
   "outputs": [],
   "source": [
    "\n",
    "data_train = pd.read_csv(\"./train.csv\")\n",
    "data_test = pd.read_csv('./test.csv')"
   ]
  },
  {
   "cell_type": "code",
   "execution_count": 67,
   "metadata": {},
   "outputs": [],
   "source": [
    "data_train = data_train.drop(columns=[\"filename\"])\n",
    "data_test = data_test.drop(columns=[\"filename\"])\n",
    "data_train=data_train[data_train.kelas != \"ABSZ\"]\n",
    "data_train=data_train[data_train.kelas != \"TCSZ\"]\n",
    "data_train=data_train[data_train.kelas != \"TNSZ\"]\n",
    "data_train=data_train[data_train.kelas != \"SPSZ\"]\n",
    "data_train=data_train[data_train.kelas != \"MYSZ\"]\n",
    "data_test=data_test[data_test.kelas != \"ABSZ\"]\n",
    "data_test=data_test[data_test.kelas != \"TCSZ\"]\n",
    "data_test=data_test[data_test.kelas != \"TNSZ\"]\n",
    "data_test=data_test[data_test.kelas != \"SPSZ\"]\n",
    "data_test=data_test[data_test.kelas != \"MYSZ\"]"
   ]
  },
  {
   "cell_type": "code",
   "execution_count": 68,
   "metadata": {},
   "outputs": [],
   "source": [
    "classes_train = np.array(data_train['kelas'])\n",
    "data_train = data_train.drop(columns=[\"kelas\"])"
   ]
  },
  {
   "cell_type": "code",
   "execution_count": 69,
   "metadata": {},
   "outputs": [],
   "source": [
    "classes_test = np.array(data_test['kelas'])\n",
    "data_test = data_test.drop(columns=[\"kelas\"])"
   ]
  },
  {
   "attachments": {},
   "cell_type": "markdown",
   "metadata": {},
   "source": [
    "# No Undersampling / Oversampling"
   ]
  },
  {
   "cell_type": "code",
   "execution_count": 70,
   "metadata": {},
   "outputs": [
    {
     "data": {
      "text/plain": [
       "array([0.62424242, 0.6       , 0.64848485, 0.67272727, 0.61212121])"
      ]
     },
     "execution_count": 70,
     "metadata": {},
     "output_type": "execute_result"
    }
   ],
   "source": [
    "classifier = LogisticRegression(multi_class='multinomial', solver='lbfgs')\n",
    "kfold = KFold(n_splits=5, shuffle=True)\n",
    "# classifier.fit(data_train,classes_train)\n",
    "scores = cross_val_score(classifier, data_train, classes_train, cv=kfold)\n",
    "scores"
   ]
  },
  {
   "cell_type": "code",
   "execution_count": 71,
   "metadata": {},
   "outputs": [
    {
     "name": "stdout",
     "output_type": "stream",
     "text": [
      "0.6346749226006192\n"
     ]
    }
   ],
   "source": [
    "classifier.fit(data_train, classes_train)\n",
    "test_score = classifier.predict(data_test)\n",
    "from sklearn.metrics import accuracy_score\n",
    "accuracy=accuracy_score(test_score, classes_test)\n",
    "print(accuracy)"
   ]
  },
  {
   "cell_type": "code",
   "execution_count": 72,
   "metadata": {},
   "outputs": [
    {
     "data": {
      "text/html": [
       "<div>\n",
       "<style scoped>\n",
       "    .dataframe tbody tr th:only-of-type {\n",
       "        vertical-align: middle;\n",
       "    }\n",
       "\n",
       "    .dataframe tbody tr th {\n",
       "        vertical-align: top;\n",
       "    }\n",
       "\n",
       "    .dataframe thead th {\n",
       "        text-align: right;\n",
       "    }\n",
       "</style>\n",
       "<table border=\"1\" class=\"dataframe\">\n",
       "  <thead>\n",
       "    <tr style=\"text-align: right;\">\n",
       "      <th></th>\n",
       "      <th>K1(Train)</th>\n",
       "      <th>K2(Train)</th>\n",
       "      <th>K3(Train)</th>\n",
       "      <th>K4(Train)</th>\n",
       "      <th>K5(Train)</th>\n",
       "      <th>TEST</th>\n",
       "    </tr>\n",
       "  </thead>\n",
       "  <tbody>\n",
       "    <tr>\n",
       "      <th>logreg</th>\n",
       "      <td>0.624242</td>\n",
       "      <td>0.6</td>\n",
       "      <td>0.648485</td>\n",
       "      <td>0.672727</td>\n",
       "      <td>0.612121</td>\n",
       "      <td>0.634675</td>\n",
       "    </tr>\n",
       "  </tbody>\n",
       "</table>\n",
       "</div>"
      ],
      "text/plain": [
       "        K1(Train)  K2(Train)  K3(Train)  K4(Train)  K5(Train)      TEST\n",
       "logreg   0.624242        0.6   0.648485   0.672727   0.612121  0.634675"
      ]
     },
     "execution_count": 72,
     "metadata": {},
     "output_type": "execute_result"
    }
   ],
   "source": [
    "result = pd.DataFrame([np.concatenate((scores,[accuracy]))],columns=['K1(Train)','K2(Train)',\n",
    "'K3(Train)','K4(Train)','K5(Train)','TEST'],index = ['logreg'])\n",
    "result"
   ]
  },
  {
   "attachments": {},
   "cell_type": "markdown",
   "metadata": {},
   "source": [
    "# With Normalization"
   ]
  },
  {
   "cell_type": "code",
   "execution_count": 52,
   "metadata": {},
   "outputs": [],
   "source": [
    "from sklearn import preprocessing\n",
    "scaler = preprocessing.MinMaxScaler()\n",
    "data_train['dispersion_entropy']= scaler.fit_transform(np.array(data_train['dispersion_entropy']).reshape(-1,1))"
   ]
  },
  {
   "cell_type": "code",
   "execution_count": 53,
   "metadata": {},
   "outputs": [],
   "source": [
    "\n",
    "# ['CPSZ', 'FNSZ', 'GNSZ]\n",
    "for i in range(len(classes_train)):\n",
    "    if classes_train[i] == 'CPSZ':\n",
    "        classes_train[i] = 0\n",
    "    elif classes_train[i] == 'GNSZ':\n",
    "        classes_train[i] = 1\n",
    "    elif classes_train[i] == 'FNSZ':\n",
    "        classes_train[i] = 2"
   ]
  },
  {
   "cell_type": "code",
   "execution_count": 54,
   "metadata": {},
   "outputs": [],
   "source": [
    "classes_train = classes_train.astype('int')"
   ]
  },
  {
   "cell_type": "code",
   "execution_count": 55,
   "metadata": {},
   "outputs": [
    {
     "data": {
      "text/plain": [
       "array([0.64242424, 0.66060606, 0.61212121, 0.66666667, 0.57575758])"
      ]
     },
     "execution_count": 55,
     "metadata": {},
     "output_type": "execute_result"
    }
   ],
   "source": [
    "classifier = LogisticRegression(multi_class='multinomial', solver='lbfgs')\n",
    "kfold = KFold(n_splits=5, shuffle=True)\n",
    "# classifier.fit(data_train,classes_train)\n",
    "scores = cross_val_score(classifier, data_train, classes_train, cv=kfold)\n",
    "scores"
   ]
  },
  {
   "cell_type": "code",
   "execution_count": null,
   "metadata": {},
   "outputs": [],
   "source": []
  }
 ],
 "metadata": {
  "kernelspec": {
   "display_name": "Python 3",
   "language": "python",
   "name": "python3"
  },
  "language_info": {
   "codemirror_mode": {
    "name": "ipython",
    "version": 3
   },
   "file_extension": ".py",
   "mimetype": "text/x-python",
   "name": "python",
   "nbconvert_exporter": "python",
   "pygments_lexer": "ipython3",
   "version": "3.10.2"
  },
  "orig_nbformat": 4,
  "vscode": {
   "interpreter": {
    "hash": "369f2c481f4da34e4445cda3fffd2e751bd1c4d706f27375911949ba6bb62e1c"
   }
  }
 },
 "nbformat": 4,
 "nbformat_minor": 2
}
