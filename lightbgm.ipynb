{
 "cells": [
  {
   "cell_type": "code",
   "execution_count": 5,
   "metadata": {},
   "outputs": [],
   "source": [
    "import lightgbm as lgb\n",
    "import numpy as np\n",
    "import pandas as pd\n",
    "from sklearn.model_selection import KFold, cross_val_score\n",
    "from sklearn.ensemble import RandomForestClassifier\n"
   ]
  },
  {
   "cell_type": "code",
   "execution_count": 6,
   "metadata": {},
   "outputs": [],
   "source": [
    "data_train = pd.read_csv(\"./train.csv\")\n",
    "data_test = pd.read_csv('./test.csv')"
   ]
  },
  {
   "cell_type": "code",
   "execution_count": 7,
   "metadata": {},
   "outputs": [],
   "source": [
    "data_train = data_train.drop(columns=[\"filename\"])\n",
    "data_test = data_test.drop(columns=[\"filename\"])\n",
    "data_train=data_train[data_train.kelas != \"ABSZ\"]\n",
    "data_train=data_train[data_train.kelas != \"TCSZ\"]\n",
    "data_train=data_train[data_train.kelas != \"TNSZ\"]\n",
    "data_train=data_train[data_train.kelas != \"SPSZ\"]\n",
    "data_train=data_train[data_train.kelas != \"MYSZ\"]\n",
    "data_test=data_test[data_test.kelas != \"ABSZ\"]\n",
    "data_test=data_test[data_test.kelas != \"TCSZ\"]\n",
    "data_test=data_test[data_test.kelas != \"TNSZ\"]\n",
    "data_test=data_test[data_test.kelas != \"SPSZ\"]\n",
    "data_test=data_test[data_test.kelas != \"MYSZ\"]\n",
    "classes_train = np.array(data_train['kelas'])\n",
    "data_train = data_train.drop(columns=[\"kelas\"])\n"
   ]
  },
  {
   "cell_type": "code",
   "execution_count": 9,
   "metadata": {},
   "outputs": [],
   "source": [
    "classes_test = np.array(data_test['kelas'])\n",
    "data_test = data_test.drop(columns=[\"kelas\"])"
   ]
  },
  {
   "cell_type": "code",
   "execution_count": 8,
   "metadata": {},
   "outputs": [
    {
     "data": {
      "text/plain": [
       "array([0.57575758, 0.56969697, 0.53939394, 0.53333333, 0.57575758])"
      ]
     },
     "execution_count": 8,
     "metadata": {},
     "output_type": "execute_result"
    }
   ],
   "source": [
    "clf = lgb.LGBMClassifier()\n",
    "kfold = KFold(n_splits=5, shuffle=True)\n",
    "\n",
    "scores = cross_val_score(clf, data_train, classes_train, cv=kfold)\n",
    "scores\n"
   ]
  },
  {
   "cell_type": "code",
   "execution_count": 12,
   "metadata": {},
   "outputs": [],
   "source": [
    "clf.fit(data_train, classes_train)\n",
    "test_score = clf.predict(data_test)\n",
    "from sklearn.metrics import accuracy_score\n",
    "accuracy=accuracy_score(test_score, classes_test)"
   ]
  },
  {
   "cell_type": "code",
   "execution_count": 13,
   "metadata": {},
   "outputs": [
    {
     "name": "stdout",
     "output_type": "stream",
     "text": [
      "0.8575851393188855\n"
     ]
    }
   ],
   "source": [
    "print(accuracy)"
   ]
  },
  {
   "cell_type": "code",
   "execution_count": 31,
   "metadata": {},
   "outputs": [
    {
     "data": {
      "text/plain": [
       "numpy.ndarray"
      ]
     },
     "execution_count": 31,
     "metadata": {},
     "output_type": "execute_result"
    }
   ],
   "source": [
    "type(np.array(accuracy))"
   ]
  },
  {
   "cell_type": "code",
   "execution_count": 29,
   "metadata": {},
   "outputs": [
    {
     "data": {
      "text/plain": [
       "numpy.float64"
      ]
     },
     "execution_count": 29,
     "metadata": {},
     "output_type": "execute_result"
    }
   ],
   "source": [
    "type(scores[0])"
   ]
  },
  {
   "cell_type": "code",
   "execution_count": 58,
   "metadata": {},
   "outputs": [],
   "source": [
    "result = pd.DataFrame([np.concatenate((scores,[accuracy]))],columns=['K1(Train)','K2(Train)',\n",
    "'K3(Train)','K4(Train)','K5(Train)','TEST'],index = ['lgbm'])"
   ]
  },
  {
   "cell_type": "code",
   "execution_count": 59,
   "metadata": {},
   "outputs": [
    {
     "data": {
      "text/html": [
       "<div>\n",
       "<style scoped>\n",
       "    .dataframe tbody tr th:only-of-type {\n",
       "        vertical-align: middle;\n",
       "    }\n",
       "\n",
       "    .dataframe tbody tr th {\n",
       "        vertical-align: top;\n",
       "    }\n",
       "\n",
       "    .dataframe thead th {\n",
       "        text-align: right;\n",
       "    }\n",
       "</style>\n",
       "<table border=\"1\" class=\"dataframe\">\n",
       "  <thead>\n",
       "    <tr style=\"text-align: right;\">\n",
       "      <th></th>\n",
       "      <th>K1(Train)</th>\n",
       "      <th>K2(Train)</th>\n",
       "      <th>K3(Train)</th>\n",
       "      <th>K4(Train)</th>\n",
       "      <th>K5(Train)</th>\n",
       "      <th>TEST</th>\n",
       "    </tr>\n",
       "  </thead>\n",
       "  <tbody>\n",
       "    <tr>\n",
       "      <th>lgbm</th>\n",
       "      <td>0.575758</td>\n",
       "      <td>0.569697</td>\n",
       "      <td>0.539394</td>\n",
       "      <td>0.533333</td>\n",
       "      <td>0.575758</td>\n",
       "      <td>0.857585</td>\n",
       "    </tr>\n",
       "  </tbody>\n",
       "</table>\n",
       "</div>"
      ],
      "text/plain": [
       "      K1(Train)  K2(Train)  K3(Train)  K4(Train)  K5(Train)      TEST\n",
       "lgbm   0.575758   0.569697   0.539394   0.533333   0.575758  0.857585"
      ]
     },
     "execution_count": 59,
     "metadata": {},
     "output_type": "execute_result"
    }
   ],
   "source": [
    "result"
   ]
  },
  {
   "cell_type": "code",
   "execution_count": null,
   "metadata": {},
   "outputs": [],
   "source": []
  }
 ],
 "metadata": {
  "kernelspec": {
   "display_name": "Python 3",
   "language": "python",
   "name": "python3"
  },
  "language_info": {
   "codemirror_mode": {
    "name": "ipython",
    "version": 3
   },
   "file_extension": ".py",
   "mimetype": "text/x-python",
   "name": "python",
   "nbconvert_exporter": "python",
   "pygments_lexer": "ipython3",
   "version": "3.10.2"
  },
  "orig_nbformat": 4,
  "vscode": {
   "interpreter": {
    "hash": "369f2c481f4da34e4445cda3fffd2e751bd1c4d706f27375911949ba6bb62e1c"
   }
  }
 },
 "nbformat": 4,
 "nbformat_minor": 2
}
